{
 "cells": [
  {
   "cell_type": "code",
   "execution_count": 1,
   "metadata": {},
   "outputs": [],
   "source": [
    "import random"
   ]
  },
  {
   "cell_type": "code",
   "execution_count": 2,
   "metadata": {},
   "outputs": [],
   "source": [
    "def f(w):# loss function\n",
    "    return w**2 + 5"
   ]
  },
  {
   "cell_type": "code",
   "execution_count": 3,
   "metadata": {},
   "outputs": [],
   "source": [
    "def df(w):\n",
    "    return 2*w"
   ]
  },
  {
   "cell_type": "code",
   "execution_count": 4,
   "metadata": {},
   "outputs": [],
   "source": [
    "old_w = float('inf')\n",
    "w = random.randint(0, 10000)\n",
    "learning_rate = 0.3\n",
    "epochs = 0"
   ]
  },
  {
   "cell_type": "code",
   "execution_count": 5,
   "metadata": {},
   "outputs": [
    {
     "name": "stdout",
     "output_type": "stream",
     "text": [
      "EPOCH0: Cost=42068201.000, x = 12972.000\n",
      "EPOCH1: Cost=6730916.360, x = 5188.800\n",
      "EPOCH2: Cost=1076950.818, x = 2075.520\n",
      "EPOCH3: Cost=172316.331, x = 830.208\n",
      "EPOCH4: Cost=27574.813, x = 332.083\n",
      "EPOCH5: Cost=4416.170, x = 132.833\n",
      "EPOCH6: Cost=710.787, x = 53.133\n",
      "EPOCH7: Cost=117.926, x = 21.253\n",
      "EPOCH8: Cost=23.068, x = 8.501\n",
      "EPOCH9: Cost=7.891, x = 3.401\n",
      "EPOCH10: Cost=5.463, x = 1.360\n",
      "EPOCH11: Cost=5.074, x = 0.544\n",
      "EPOCH12: Cost=5.012, x = 0.218\n",
      "EPOCH13: Cost=5.002, x = 0.087\n",
      "EPOCH14: Cost=5.000, x = 0.035\n",
      "EPOCH15: Cost=5.000, x = 0.014\n",
      "EPOCH16: Cost=5.000, x = 0.006\n",
      "EPOCH17: Cost=5.000, x = 0.002\n",
      "EPOCH18: Cost=5.000, x = 0.001\n",
      "EPOCH19: Cost=5.000, x = 0.000\n",
      "EPOCH20: Cost=5.000, x = 0.000\n",
      "EPOCH21: Cost=5.000, x = 0.000\n",
      "EPOCH22: Cost=5.000, x = 0.000\n",
      "EPOCH23: Cost=5.000, x = 0.000\n",
      "EPOCH24: Cost=5.000, x = 0.000\n",
      "EPOCH25: Cost=5.000, x = 0.000\n",
      "EPOCH26: Cost=5.000, x = 0.000\n",
      "EPOCH27: Cost=5.000, x = 0.000\n"
     ]
    }
   ],
   "source": [
    "while abs(w - old_w) > 1.0e-7:\n",
    "    cost = f(w)\n",
    "    grad_w = df(w)\n",
    "    old_w = w\n",
    "    w -= learning_rate * grad_w\n",
    "    print('EPOCH{}: Cost={:.3f}, x = {:.3f}'.format(epochs, cost, grad_w))\n",
    "    epochs += 1"
   ]
  }
 ],
 "metadata": {
  "kernelspec": {
   "display_name": "Python 2",
   "language": "python",
   "name": "python2"
  },
  "language_info": {
   "codemirror_mode": {
    "name": "ipython",
    "version": 2
   },
   "file_extension": ".py",
   "mimetype": "text/x-python",
   "name": "python",
   "nbconvert_exporter": "python",
   "pygments_lexer": "ipython2",
   "version": "2.7.15"
  }
 },
 "nbformat": 4,
 "nbformat_minor": 2
}
