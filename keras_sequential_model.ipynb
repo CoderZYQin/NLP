{
 "cells": [
  {
   "cell_type": "code",
   "execution_count": 1,
   "metadata": {},
   "outputs": [
    {
     "name": "stderr",
     "output_type": "stream",
     "text": [
      "Using TensorFlow backend.\n"
     ]
    }
   ],
   "source": [
    "import keras\n",
    "import numpy as np\n",
    "from keras.models import Sequential\n",
    "from keras.layers import Dense, Dropout, Activation\n",
    "from keras.optimizers import SGD"
   ]
  },
  {
   "cell_type": "code",
   "execution_count": 2,
   "metadata": {},
   "outputs": [],
   "source": [
    "# Generate dummy data\n",
    "x_train = np.random.random((1000, 20))\n",
    "y_train = keras.utils.to_categorical(np.random.randint(10, size=(1000, 1)), num_classes=10)"
   ]
  },
  {
   "cell_type": "code",
   "execution_count": 3,
   "metadata": {},
   "outputs": [
    {
     "data": {
      "text/plain": [
       "array([[0., 0., 0., ..., 0., 0., 1.],\n",
       "       [0., 0., 0., ..., 0., 0., 1.],\n",
       "       [0., 1., 0., ..., 0., 0., 0.],\n",
       "       ...,\n",
       "       [0., 0., 0., ..., 0., 0., 1.],\n",
       "       [0., 0., 0., ..., 0., 1., 0.],\n",
       "       [0., 0., 0., ..., 0., 0., 1.]], dtype=float32)"
      ]
     },
     "execution_count": 3,
     "metadata": {},
     "output_type": "execute_result"
    }
   ],
   "source": [
    "y_train"
   ]
  },
  {
   "cell_type": "code",
   "execution_count": 4,
   "metadata": {},
   "outputs": [],
   "source": [
    "x_test = np.random.random((100, 20))\n",
    "y_test = keras.utils.to_categorical(np.random.randint(10, size=(100, 1)), num_classes=10)"
   ]
  },
  {
   "cell_type": "code",
   "execution_count": 5,
   "metadata": {},
   "outputs": [],
   "source": [
    "model = Sequential()"
   ]
  },
  {
   "cell_type": "code",
   "execution_count": 7,
   "metadata": {},
   "outputs": [],
   "source": [
    "model.add(Dense(64, input_dim=20, activation='relu'))\n",
    "model.add(Dropout(0.5))\n",
    "model.add(Dense(64, activation='relu'))\n",
    "model.add(Dropout(0.5))\n",
    "model.add(Dense(10, activation='softmax'))"
   ]
  },
  {
   "cell_type": "code",
   "execution_count": 8,
   "metadata": {},
   "outputs": [],
   "source": [
    "sgd = SGD(lr=0.01, decay=1e-6, momentum=0.9, nesterov=True)\n",
    "model.compile(loss='categorical_crossentropy', optimizer=sgd, metrics=['accuracy'])"
   ]
  },
  {
   "cell_type": "code",
   "execution_count": 9,
   "metadata": {},
   "outputs": [
    {
     "name": "stdout",
     "output_type": "stream",
     "text": [
      "Epoch 1/20\n",
      "1000/1000 [==============================] - 0s 310us/step - loss: 2.4044 - acc: 0.0920\n",
      "Epoch 2/20\n",
      "1000/1000 [==============================] - 0s 24us/step - loss: 2.3650 - acc: 0.1050\n",
      "Epoch 3/20\n",
      "1000/1000 [==============================] - 0s 34us/step - loss: 2.3489 - acc: 0.0790\n",
      "Epoch 4/20\n",
      "1000/1000 [==============================] - 0s 31us/step - loss: 2.3219 - acc: 0.1050\n",
      "Epoch 5/20\n",
      "1000/1000 [==============================] - 0s 31us/step - loss: 2.3253 - acc: 0.1060\n",
      "Epoch 6/20\n",
      "1000/1000 [==============================] - 0s 34us/step - loss: 2.3285 - acc: 0.0970\n",
      "Epoch 7/20\n",
      "1000/1000 [==============================] - 0s 37us/step - loss: 2.3099 - acc: 0.1060\n",
      "Epoch 8/20\n",
      "1000/1000 [==============================] - 0s 36us/step - loss: 2.3121 - acc: 0.0880\n",
      "Epoch 9/20\n",
      "1000/1000 [==============================] - 0s 39us/step - loss: 2.3182 - acc: 0.0880\n",
      "Epoch 10/20\n",
      "1000/1000 [==============================] - 0s 36us/step - loss: 2.3086 - acc: 0.1040\n",
      "Epoch 11/20\n",
      "1000/1000 [==============================] - 0s 27us/step - loss: 2.3114 - acc: 0.0930\n",
      "Epoch 12/20\n",
      "1000/1000 [==============================] - 0s 33us/step - loss: 2.3086 - acc: 0.1040\n",
      "Epoch 13/20\n",
      "1000/1000 [==============================] - 0s 37us/step - loss: 2.3054 - acc: 0.1160\n",
      "Epoch 14/20\n",
      "1000/1000 [==============================] - 0s 36us/step - loss: 2.3080 - acc: 0.0920\n",
      "Epoch 15/20\n",
      "1000/1000 [==============================] - 0s 34us/step - loss: 2.3029 - acc: 0.1140\n",
      "Epoch 16/20\n",
      "1000/1000 [==============================] - 0s 27us/step - loss: 2.2989 - acc: 0.1220\n",
      "Epoch 17/20\n",
      "1000/1000 [==============================] - 0s 32us/step - loss: 2.2996 - acc: 0.1200\n",
      "Epoch 18/20\n",
      "1000/1000 [==============================] - 0s 29us/step - loss: 2.3092 - acc: 0.1090\n",
      "Epoch 19/20\n",
      "1000/1000 [==============================] - 0s 26us/step - loss: 2.3033 - acc: 0.1090\n",
      "Epoch 20/20\n",
      "1000/1000 [==============================] - 0s 34us/step - loss: 2.3014 - acc: 0.1150\n"
     ]
    },
    {
     "data": {
      "text/plain": [
       "<keras.callbacks.History at 0x127cbce48>"
      ]
     },
     "execution_count": 9,
     "metadata": {},
     "output_type": "execute_result"
    }
   ],
   "source": [
    "model.fit(x_train, y_train, epochs=20, batch_size=128)"
   ]
  },
  {
   "cell_type": "code",
   "execution_count": 10,
   "metadata": {},
   "outputs": [
    {
     "name": "stdout",
     "output_type": "stream",
     "text": [
      "\r",
      "100/100 [==============================] - 0s 538us/step\n"
     ]
    }
   ],
   "source": [
    "score = model.evaluate(x_test, y_test, batch_size=128)"
   ]
  },
  {
   "cell_type": "code",
   "execution_count": 11,
   "metadata": {},
   "outputs": [
    {
     "data": {
      "text/plain": [
       "[2.316786766052246, 0.07000000029802322]"
      ]
     },
     "execution_count": 11,
     "metadata": {},
     "output_type": "execute_result"
    }
   ],
   "source": [
    "score"
   ]
  },
  {
   "cell_type": "code",
   "execution_count": null,
   "metadata": {},
   "outputs": [],
   "source": []
  }
 ],
 "metadata": {
  "kernelspec": {
   "display_name": "Kstone",
   "language": "python",
   "name": "kstone"
  },
  "language_info": {
   "codemirror_mode": {
    "name": "ipython",
    "version": 3
   },
   "file_extension": ".py",
   "mimetype": "text/x-python",
   "name": "python",
   "nbconvert_exporter": "python",
   "pygments_lexer": "ipython3",
   "version": "3.6.7"
  }
 },
 "nbformat": 4,
 "nbformat_minor": 2
}
