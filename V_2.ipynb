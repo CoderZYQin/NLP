{
 "cells": [
  {
   "cell_type": "markdown",
   "metadata": {},
   "source": [
    "# Probability Based"
   ]
  },
  {
   "cell_type": "code",
   "execution_count": 1,
   "metadata": {},
   "outputs": [],
   "source": [
    "file_name = '80k_articles.txt'"
   ]
  },
  {
   "cell_type": "code",
   "execution_count": 2,
   "metadata": {},
   "outputs": [],
   "source": [
    "all_content = open(file_name).read()"
   ]
  },
  {
   "cell_type": "code",
   "execution_count": 3,
   "metadata": {},
   "outputs": [
    {
     "data": {
      "text/plain": [
       "34475997"
      ]
     },
     "execution_count": 3,
     "metadata": {},
     "output_type": "execute_result"
    }
   ],
   "source": [
    "len(all_content)"
   ]
  },
  {
   "cell_type": "code",
   "execution_count": 4,
   "metadata": {},
   "outputs": [
    {
     "data": {
      "text/plain": [
       "'新华社照片，东莞（广东），2017年4月7日\\\\n（体育）（9）篮球——CBA总决赛第四场：广东对阵新疆\\\\n4月7日，广东东莞银行队球员易建联在比赛中扣篮。\\\\n当日，在2016-2017赛季中国男子篮球职业联赛（CBA）总决赛第四场比赛中，广东东莞银行队主场迎战新疆喀什古城队。\\\\n新华社记者孟永民摄\\\\n\\u3000\\u3000新华社北京４月１４日新媒体专电（记者杨烨）作为国民经济的重要支柱，央企一季度交上了一份漂亮的“'"
      ]
     },
     "execution_count": 4,
     "metadata": {},
     "output_type": "execute_result"
    }
   ],
   "source": [
    "all_content[:200]"
   ]
  },
  {
   "cell_type": "code",
   "execution_count": 5,
   "metadata": {},
   "outputs": [],
   "source": [
    "import re"
   ]
  },
  {
   "cell_type": "code",
   "execution_count": 6,
   "metadata": {},
   "outputs": [],
   "source": [
    "def tokenize(string):\n",
    "    return ''.join(re.findall('[\\w|\\d]+', string))"
   ]
  },
  {
   "cell_type": "code",
   "execution_count": 7,
   "metadata": {},
   "outputs": [
    {
     "data": {
      "text/plain": [
       "'新华社华盛顿４月１３日电记者林小春寻找外星生命目前最理想的地点可能是土星卫星土卫二上的冰封小世界美国航天局１３日宣布卡西尼探测器在土卫二喷出的羽流中探测到氢气这意味着土卫二具备生命存在的几乎所有已知要素n这项发表在美国科学杂志上的研究显示土卫二羽流中９８是水约１是氢气其余是二氧化碳甲烷和氨等组成的混合物n卡西尼项目科学家琳达施皮尔克当天在网'"
      ]
     },
     "execution_count": 7,
     "metadata": {},
     "output_type": "execute_result"
    }
   ],
   "source": [
    "tokenize('\\u3000\\u3000新华社华盛顿４月１３日电（记者林小春）寻找外星生命，目前最理想的地点可能是土星卫星土卫二上的冰封小世界。美国航天局１３日宣布，“卡西尼”探测器在土卫二喷出的羽流中探测到氢气，这意味着土卫二具备生命存在的几乎所有已知要素。\\\\n\\u3000\\u3000这项发表在美国《科学》杂志上的研究显示，土卫二羽流中９８％是水，约１％是氢气，其余是二氧化碳、甲烷和氨等组成的混合物。\\\\n\\u3000\\u3000“卡西尼”项目科学家琳达·施皮尔克当天在网')"
   ]
  },
  {
   "cell_type": "code",
   "execution_count": 8,
   "metadata": {},
   "outputs": [],
   "source": [
    "ALL_CHARACTER = tokenize(all_content)"
   ]
  },
  {
   "cell_type": "code",
   "execution_count": 9,
   "metadata": {},
   "outputs": [
    {
     "data": {
      "text/plain": [
       "29734095"
      ]
     },
     "execution_count": 9,
     "metadata": {},
     "output_type": "execute_result"
    }
   ],
   "source": [
    "len(ALL_CHARACTER)"
   ]
  },
  {
   "cell_type": "markdown",
   "metadata": {},
   "source": [
    "# Unigram"
   ]
  },
  {
   "cell_type": "code",
   "execution_count": 10,
   "metadata": {},
   "outputs": [],
   "source": [
    "from collections import Counter"
   ]
  },
  {
   "cell_type": "code",
   "execution_count": 11,
   "metadata": {},
   "outputs": [],
   "source": [
    "all_character_counts = Counter(ALL_CHARACTER)"
   ]
  },
  {
   "cell_type": "code",
   "execution_count": 12,
   "metadata": {},
   "outputs": [
    {
     "data": {
      "text/plain": [
       "[('的', 635684),\n",
       " ('n', 605563),\n",
       " ('国', 303683),\n",
       " ('1', 285430),\n",
       " ('在', 273451),\n",
       " ('一', 255874),\n",
       " ('中', 249541),\n",
       " ('日', 248419),\n",
       " ('2', 247140),\n",
       " ('新', 243975),\n",
       " ('0', 240159),\n",
       " ('年', 197627),\n",
       " ('月', 183696),\n",
       " ('人', 176780),\n",
       " ('大', 162508),\n",
       " ('社', 159861),\n",
       " ('华', 156763),\n",
       " ('是', 141034),\n",
       " ('和', 131350),\n",
       " ('赛', 130048)]"
      ]
     },
     "execution_count": 12,
     "metadata": {},
     "output_type": "execute_result"
    }
   ],
   "source": [
    "all_character_counts.most_common(20)"
   ]
  },
  {
   "cell_type": "code",
   "execution_count": 13,
   "metadata": {},
   "outputs": [],
   "source": [
    "def get_probability_from_counts(count):\n",
    "    all_occurences = sum(count.values())\n",
    "    min_occurences = min(count.values())\n",
    "    def get_prob(item):\n",
    "        return count.get(item, min_occurences) / all_occurences\n",
    "    return get_prob"
   ]
  },
  {
   "cell_type": "code",
   "execution_count": 14,
   "metadata": {},
   "outputs": [],
   "source": [
    "get_char_prob = get_probability_from_counts(all_character_counts)"
   ]
  },
  {
   "cell_type": "code",
   "execution_count": 15,
   "metadata": {},
   "outputs": [],
   "source": [
    "import time"
   ]
  },
  {
   "cell_type": "code",
   "execution_count": 16,
   "metadata": {},
   "outputs": [],
   "source": [
    "def get_running_time(func, arg, times):\n",
    "    start_time = time.time()\n",
    "    for _ in range(times):\n",
    "        func(arg)\n",
    "    print('\\t\\t {} used time is {}'.format(func.__name__, time.time() - start_time))"
   ]
  },
  {
   "cell_type": "code",
   "execution_count": 17,
   "metadata": {},
   "outputs": [
    {
     "name": "stdout",
     "output_type": "stream",
     "text": [
      "\t\t get_prob used time is 0.0028951168060302734\n"
     ]
    }
   ],
   "source": [
    "get_running_time(get_char_prob, '我', 10000)"
   ]
  },
  {
   "cell_type": "code",
   "execution_count": 18,
   "metadata": {},
   "outputs": [],
   "source": [
    "from functools import reduce\n",
    "from operator import mul, add"
   ]
  },
  {
   "cell_type": "code",
   "execution_count": 19,
   "metadata": {},
   "outputs": [],
   "source": [
    "def prob_of_string(string):\n",
    "    return reduce(mul, [get_char_prob(c) for c in string])"
   ]
  },
  {
   "cell_type": "code",
   "execution_count": 20,
   "metadata": {},
   "outputs": [
    {
     "data": {
      "text/plain": [
       "7.81410660166886e-36"
      ]
     },
     "execution_count": 20,
     "metadata": {},
     "output_type": "execute_result"
    }
   ],
   "source": [
    "prob_of_string('这是一个比较常见测试用例')"
   ]
  },
  {
   "cell_type": "code",
   "execution_count": 21,
   "metadata": {},
   "outputs": [
    {
     "data": {
      "text/plain": [
       "3.695294331492719e-37"
      ]
     },
     "execution_count": 21,
     "metadata": {},
     "output_type": "execute_result"
    }
   ],
   "source": [
    "prob_of_string('这是一个比较罕见测试用例')"
   ]
  },
  {
   "cell_type": "code",
   "execution_count": 22,
   "metadata": {},
   "outputs": [],
   "source": [
    "pair = \"\"\"前天晚上吃晚饭的时候\n",
    "前天晚上吃早饭的时候\"\"\".split('\\n')\n",
    "\n",
    "pair2 = \"\"\"正是一个好看的小猫\n",
    "真是一个好看的小猫\"\"\".split('\\n')\n",
    "\n",
    "pair3 = \"\"\"我无言以对，简直\n",
    "我简直无言以对\"\"\".split('\\n')"
   ]
  },
  {
   "cell_type": "code",
   "execution_count": 23,
   "metadata": {},
   "outputs": [],
   "source": [
    "pairs = [pair, pair2, pair3]"
   ]
  },
  {
   "cell_type": "code",
   "execution_count": 24,
   "metadata": {},
   "outputs": [],
   "source": [
    "def get_probability_performance(language_model_func, pairs):\n",
    "    for (p1, p2) in pairs:\n",
    "        print('*'*18)\n",
    "        print('\\t\\t {} with probability {}'.format(p1, language_model_func(tokenize(p1))))\n",
    "        print('\\t\\t {} with probability {}'.format(p2, language_model_func(tokenize(p2))))"
   ]
  },
  {
   "cell_type": "code",
   "execution_count": 25,
   "metadata": {},
   "outputs": [
    {
     "name": "stdout",
     "output_type": "stream",
     "text": [
      "******************\n",
      "\t\t 前天晚上吃晚饭的时候 with probability 1.2205917468406523e-31\n",
      "\t\t 前天晚上吃早饭的时候 with probability 1.4203006420690778e-31\n",
      "******************\n",
      "\t\t 正是一个好看的小猫 with probability 3.2525875244545557e-25\n",
      "\t\t 真是一个好看的小猫 with probability 1.0219933874960867e-25\n",
      "******************\n",
      "\t\t 我无言以对，简直 with probability 3.7422941328709655e-22\n",
      "\t\t 我简直无言以对 with probability 3.7422941328709655e-22\n"
     ]
    }
   ],
   "source": [
    "get_probability_performance(prob_of_string, pairs)"
   ]
  },
  {
   "cell_type": "markdown",
   "metadata": {},
   "source": [
    "# 2-Gram"
   ]
  },
  {
   "cell_type": "code",
   "execution_count": 26,
   "metadata": {},
   "outputs": [],
   "source": [
    "gram_length = 2\n",
    "two_gram_counts = Counter(ALL_CHARACTER[i:i+gram_length] for i in range(len(ALL_CHARACTER) - gram_length))"
   ]
  },
  {
   "cell_type": "code",
   "execution_count": 27,
   "metadata": {},
   "outputs": [
    {
     "data": {
      "text/plain": [
       "[('新华', 135490),\n",
       " ('华社', 129104),\n",
       " ('20', 123427),\n",
       " ('nn', 118789),\n",
       " ('01', 102583),\n",
       " ('17', 81801),\n",
       " ('n新', 78433),\n",
       " ('中国', 77776),\n",
       " ('外代', 74795),\n",
       " ('7年', 59051),\n",
       " ('记者', 56946),\n",
       " ('二线', 55866),\n",
       " ('5月', 55491),\n",
       " ('代二', 55245),\n",
       " ('4月', 51236),\n",
       " ('日n', 48360),\n",
       " ('月1', 47181),\n",
       " ('照片', 46712),\n",
       " ('月2', 45268),\n",
       " ('社照', 45003)]"
      ]
     },
     "execution_count": 27,
     "metadata": {},
     "output_type": "execute_result"
    }
   ],
   "source": [
    "two_gram_counts.most_common(20)"
   ]
  },
  {
   "cell_type": "code",
   "execution_count": 28,
   "metadata": {},
   "outputs": [],
   "source": [
    "get_pair_prob = get_probability_from_counts(two_gram_counts)"
   ]
  },
  {
   "cell_type": "code",
   "execution_count": 29,
   "metadata": {},
   "outputs": [],
   "source": [
    "def get_2_gram_prob(word, prev):\n",
    "    # 如果分子不为0\n",
    "    if get_pair_prob(word+prev) > 0:\n",
    "        return get_pair_prob(word+prev) / get_char_prob(prev)\n",
    "    else:\n",
    "        return get_char_prob(word)"
   ]
  },
  {
   "cell_type": "code",
   "execution_count": 30,
   "metadata": {},
   "outputs": [],
   "source": [
    "def get_2_gram_string_prob(string):\n",
    "    probabilities = []\n",
    "    for i, c in enumerate(string):\n",
    "        # 处理开始字条件概率\n",
    "        prev = '<s>' if i == 0 else string[i-1]\n",
    "        probabilities.append(get_2_gram_prob(c, prev))\n",
    "    return reduce(mul, probabilities)"
   ]
  },
  {
   "cell_type": "code",
   "execution_count": 31,
   "metadata": {},
   "outputs": [
    {
     "name": "stdout",
     "output_type": "stream",
     "text": [
      "******************\n",
      "\t\t 前天晚上吃晚饭的时候 with probability 1.2205917468406523e-31\n",
      "\t\t 前天晚上吃早饭的时候 with probability 1.4203006420690778e-31\n",
      "******************\n",
      "\t\t 正是一个好看的小猫 with probability 3.2525875244545557e-25\n",
      "\t\t 真是一个好看的小猫 with probability 1.0219933874960867e-25\n",
      "******************\n",
      "\t\t 我无言以对，简直 with probability 3.7422941328709655e-22\n",
      "\t\t 我简直无言以对 with probability 3.7422941328709655e-22\n"
     ]
    }
   ],
   "source": [
    "get_probability_performance(prob_of_string, pairs)"
   ]
  },
  {
   "cell_type": "code",
   "execution_count": 32,
   "metadata": {},
   "outputs": [
    {
     "name": "stdout",
     "output_type": "stream",
     "text": [
      "******************\n",
      "\t\t 前天晚上吃晚饭的时候 with probability 3.506230755655749e-27\n",
      "\t\t 前天晚上吃早饭的时候 with probability 1.5066093037308237e-27\n",
      "******************\n",
      "\t\t 正是一个好看的小猫 with probability 2.521114349982491e-22\n",
      "\t\t 真是一个好看的小猫 with probability 1.1600122521103302e-21\n",
      "******************\n",
      "\t\t 我无言以对，简直 with probability 7.265243062904144e-22\n",
      "\t\t 我简直无言以对 with probability 4.5720528408690446e-21\n"
     ]
    }
   ],
   "source": [
    "get_probability_performance(get_2_gram_string_prob, pairs)"
   ]
  }
 ],
 "metadata": {
  "kernelspec": {
   "display_name": "Kstone",
   "language": "python",
   "name": "kstone"
  },
  "language_info": {
   "codemirror_mode": {
    "name": "ipython",
    "version": 3
   },
   "file_extension": ".py",
   "mimetype": "text/x-python",
   "name": "python",
   "nbconvert_exporter": "python",
   "pygments_lexer": "ipython3",
   "version": "3.6.7"
  }
 },
 "nbformat": 4,
 "nbformat_minor": 2
}
