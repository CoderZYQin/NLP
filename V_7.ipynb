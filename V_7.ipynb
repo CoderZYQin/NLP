{
 "cells": [
  {
   "cell_type": "markdown",
   "metadata": {},
   "source": [
    "## Information Retrieval"
   ]
  },
  {
   "cell_type": "code",
   "execution_count": 1,
   "metadata": {},
   "outputs": [],
   "source": [
    "file_base = \"./data\""
   ]
  },
  {
   "cell_type": "code",
   "execution_count": 2,
   "metadata": {},
   "outputs": [],
   "source": [
    "import os"
   ]
  },
  {
   "cell_type": "code",
   "execution_count": 3,
   "metadata": {},
   "outputs": [
    {
     "data": {
      "text/plain": [
       "971"
      ]
     },
     "execution_count": 3,
     "metadata": {},
     "output_type": "execute_result"
    }
   ],
   "source": [
    "len(os.listdir(file_base))"
   ]
  },
  {
   "cell_type": "markdown",
   "metadata": {},
   "source": [
    "## Task, build a search engine, input: some words, output are the documents."
   ]
  },
  {
   "cell_type": "code",
   "execution_count": 4,
   "metadata": {},
   "outputs": [],
   "source": [
    "import jieba"
   ]
  },
  {
   "cell_type": "code",
   "execution_count": 5,
   "metadata": {},
   "outputs": [],
   "source": [
    "def cut(string): return \" \".join(jieba.cut(string))"
   ]
  },
  {
   "cell_type": "code",
   "execution_count": 6,
   "metadata": {},
   "outputs": [
    {
     "name": "stderr",
     "output_type": "stream",
     "text": [
      "Building prefix dict from the default dictionary ...\n",
      "Loading model from cache /var/folders/_8/f14fxxnn7w13cd0l5x9hl4bm0000gn/T/jieba.cache\n",
      "Loading model cost 0.883 seconds.\n",
      "Prefix dict has been built succesfully.\n"
     ]
    }
   ],
   "source": [
    "corpus = [\n",
    "    cut(open(os.path.join(file_base, f)).read()) for f in os.listdir(file_base)\n",
    "]"
   ]
  },
  {
   "cell_type": "code",
   "execution_count": 7,
   "metadata": {},
   "outputs": [
    {
     "data": {
      "text/plain": [
       "['。 通常 在 这 上面 会 印上 文字 与 符号 （ 大多 是 白色 的 , 在 Top   Overlay   和 Bottom   Overlay',\n",
       " '辅助 编辑 原因 ： 文章 标题 略有 误导 ， 辅助 修改 标题 。 原 标题   “ ALTIUM _ DESIGNER _ 10 新 功能 试用 ”                 另 文章 为 早期 转载 文章 ， 故对 原 文章 标题 不 做 纠正 ... 再次 感谢 网友 推荐 文章 * * * * * * * * * * * * * * * * * * * * * * * * * * * * * * * * * * * * * * * * * * * * * * * * * * * * * * * * * * * * * * * * * * * * * * * * * * * * * * * * * * * * * *',\n",
       " '谢谢你们 发 的 好东东',\n",
       " 'wypcb   发表 于   2014 - 6 - 5   22 : 09a2763338   发表 于   2014 - 12 - 22   11 : 20',\n",
       " '层次化 原理图 电气 检查 时 出现 . SchDoc         Compiler         Duplicate   Net   Names   Element [ - 1 ] 网上 查 了   说 什么 放置   网络 标号 ， 也 不好 使 ， 同时 我 看 的 书上   说 不要 把 网络 标号   放在 总线 上 谢谢 各位 大虾 帮助 呀',\n",
       " 'PADS 原理图 转 Atium 原理图 完美 教程 1 、 打开 一个 PADS 的 原理图 ， File — Export … 2 、 选择 保存 文件类型 输出 、 “ Select   All ” ， 输出 类型 格式 为 pads   logic   2005 . 并 点击 “ OK ” 、 可以 打开 查看 下 我们 刚 保存 的 文件 5 、 转换 开始 了 … 打开 Altium   Designer   9.4 选择 打开 刚 生成 的 TXT 文件 。 6 、 按照 转换 向导 进行 转换 、 比 对 原理图',\n",
       " '补充 操作 辅图',\n",
       " 'wulin   万分 感谢 ! ! !',\n",
       " '[ 求助 ] AD6 中 原理图 中文 注解 显示 不了 ？ 显示 成小 方框 请 高手 指点 需要 设置 哪里 ？ ？ ？ 急 ！ ！ ！ ！ ！ ！ ！ ！ ！ ！ ！ ！ ！',\n",
       " '深秋 枫叶   发表 于   2012 - 5 - 13   09 : 55 老前辈 ， 弱弱 的 向 您 问句 ： 可否 把   2 、 3 、 4 、 5 # 的 回复 删除 ？ （ 或 追加 到 1 # 内 ？ ） ,   补充 描述 清楚 你 要 表达 的 内容 ？ 答非所问   不伦不类 没有 理解 楼主 真实 目的 ， 想当然 的 回复 { : soso _ e138 : }   { : soso _ e138 : }   { : soso _ e138 : } wanghanq   发表 于   2012 - 5 - 13   11 : 01']"
      ]
     },
     "execution_count": 7,
     "metadata": {},
     "output_type": "execute_result"
    }
   ],
   "source": [
    "corpus[:10]"
   ]
  },
  {
   "cell_type": "code",
   "execution_count": 8,
   "metadata": {},
   "outputs": [],
   "source": [
    "from sklearn.feature_extraction.text import TfidfVectorizer"
   ]
  },
  {
   "cell_type": "code",
   "execution_count": 9,
   "metadata": {},
   "outputs": [],
   "source": [
    "vectorizer = TfidfVectorizer()"
   ]
  },
  {
   "cell_type": "code",
   "execution_count": 10,
   "metadata": {},
   "outputs": [],
   "source": [
    "tfidf = vectorizer.fit_transform(corpus)"
   ]
  },
  {
   "cell_type": "code",
   "execution_count": 11,
   "metadata": {},
   "outputs": [
    {
     "data": {
      "text/plain": [
       "0"
      ]
     },
     "execution_count": 11,
     "metadata": {},
     "output_type": "execute_result"
    }
   ],
   "source": [
    "min(vectorizer.vocabulary_.values())"
   ]
  },
  {
   "cell_type": "code",
   "execution_count": 12,
   "metadata": {},
   "outputs": [
    {
     "data": {
      "text/plain": [
       "9145"
      ]
     },
     "execution_count": 12,
     "metadata": {},
     "output_type": "execute_result"
    }
   ],
   "source": [
    "max(vectorizer.vocabulary_.values())"
   ]
  },
  {
   "cell_type": "code",
   "execution_count": 13,
   "metadata": {},
   "outputs": [],
   "source": [
    "transposed_tfidf = tfidf.transpose()"
   ]
  },
  {
   "cell_type": "code",
   "execution_count": 14,
   "metadata": {},
   "outputs": [],
   "source": [
    "import numpy as np"
   ]
  },
  {
   "cell_type": "code",
   "execution_count": 15,
   "metadata": {},
   "outputs": [],
   "source": [
    "transposed_tfidf_array = transposed_tfidf.toarray()"
   ]
  },
  {
   "cell_type": "code",
   "execution_count": 16,
   "metadata": {},
   "outputs": [
    {
     "data": {
      "text/plain": [
       "(9146, 971)"
      ]
     },
     "execution_count": 16,
     "metadata": {},
     "output_type": "execute_result"
    }
   ],
   "source": [
    "transposed_tfidf_array.shape"
   ]
  },
  {
   "cell_type": "code",
   "execution_count": 17,
   "metadata": {},
   "outputs": [],
   "source": [
    "def get_word_id(word):\n",
    "    return vectorizer.vocabulary_.get(word, None)"
   ]
  },
  {
   "cell_type": "code",
   "execution_count": 18,
   "metadata": {},
   "outputs": [],
   "source": [
    "def get_candidates_ids(input_string):\n",
    "    return [get_word_id(c) for c in input_string.split()]"
   ]
  },
  {
   "cell_type": "code",
   "execution_count": 19,
   "metadata": {},
   "outputs": [],
   "source": [
    "def get_candidates_pat(input_string):\n",
    "    return \"({})\".format('|'.join(cut(input_string).split()))"
   ]
  },
  {
   "cell_type": "code",
   "execution_count": 20,
   "metadata": {},
   "outputs": [],
   "source": [
    "from functools import reduce"
   ]
  },
  {
   "cell_type": "code",
   "execution_count": 21,
   "metadata": {},
   "outputs": [],
   "source": [
    "from operator import and_"
   ]
  },
  {
   "cell_type": "code",
   "execution_count": 22,
   "metadata": {},
   "outputs": [],
   "source": [
    "import re"
   ]
  },
  {
   "cell_type": "code",
   "execution_count": 23,
   "metadata": {},
   "outputs": [],
   "source": [
    "import numpy as np"
   ]
  },
  {
   "cell_type": "code",
   "execution_count": 34,
   "metadata": {},
   "outputs": [],
   "source": [
    "from scipy.spatial.distance import cosine"
   ]
  },
  {
   "cell_type": "code",
   "execution_count": 33,
   "metadata": {},
   "outputs": [],
   "source": [
    "def search_enginer(query):\n",
    "    candidates_ids = get_candidates_ids(query)\n",
    "    \n",
    "    v1 = vectorizer.transform([cut(query)]).toarray()[0]\n",
    "    \n",
    "    candidates = [set(np.where(transposed_tfidf_array[_id])[0]) for _id in candidates_ids]\n",
    "    \n",
    "    merged_candidates = reduce(and_, candidates)\n",
    "    \n",
    "    pat = re.compile(get_candidates_pat(query))\n",
    "    \n",
    "    vector_with_id = [(tfidf[i], i) for i in merged_candidates]\n",
    "    \n",
    "    sorted_vector_ids = sorted(vector_with_id, key=lambda x: cosine(x[0].toarray(), v1))\n",
    "    \n",
    "    sorted_ids = [i for v, i in sorted_vector_ids]\n",
    "\n",
    "    for c in sorted_ids:\n",
    "        print(\"*\"*10)\n",
    "        output = pat.sub(repl='△△\\g<1>△△', string=corpus[c])\n",
    "        yield ''.join(output.split())\n",
    "    "
   ]
  },
  {
   "cell_type": "code",
   "execution_count": 36,
   "metadata": {},
   "outputs": [
    {
     "name": "stdout",
     "output_type": "stream",
     "text": [
      "**********\n",
      "手工△△制作△△双层板时，老是因为顶层与底层纸对的不齐（打印的热转印纸），导致△△电路板△△腐蚀出来顶层的焊盘与底层的焊盘错位，有什么好的办法解决这个问题呢？？\n",
      "**********\n",
      "对于SolderMaskLayers和这个两个概念，有很多初学者不太理解这两个层的概念，因为它们的确有一些相似的地方，就自己的看法说说，贡大家参考：即阻焊层，就是PCB板上焊盘（表面贴焊盘、插件焊盘、过孔）外一层涂了绿油的地方，它是为了防止在PCB过锡炉（波峰焊）的时候，不该上锡的地方上锡，所以称为阻焊层（绿油层），我想只要见过PCB板的都应该会看到这层绿油的，阻焊层又可以分为TopLayersR和BottomLayers两层，层是要把PAD露出来吧，这就是我们在只显示Solder层时看到的小圆圈或小方圈，一般比焊盘大（Solder表面意思是指阻焊层，就是用它来涂敷绿油等阻焊材料，从而防止不需要焊接的地方沾染焊锡的，这层会露出所有需要焊接的焊盘，并且开孔会比实际焊盘要大）；在生成Gerber文件时候，可以观察SolderLayers的实际效果。锡膏防护层，是针对表面贴（SMD）元件的，该层用来△△制作△△钢膜（片）﹐而钢膜上的孔就对应着△△电路板△△上的器件的焊点。在表面贴装（）器件焊接时﹐先将钢膜盖在△△电路板△△上（与实际焊盘对应）﹐然后将锡膏涂上﹐用刮片将多余的锡膏刮去﹐移除钢膜﹐这样器件的焊盘就加上了锡膏﹐之后将器件贴附到锡膏上面去（手工或贴片机）﹐最后通过回流焊机完成器件的焊接。通常钢膜上孔径的大小会比△△电路板△△上实际的焊小一些﹐通过指定一个扩展规则﹐来放大或缩小锡膏防护层。对于不同焊盘的不同要求﹐也可以在锡膏防护层中设定多重规则，系统也提供个锡膏防护层﹐分别是顶层锡膏防护层（）和底层锡膏防护层（）\n",
      "**********\n",
      "作为一个电子工程师设计电路是一项必备的硬功夫，但是原理设计再完美，如果△△电路板△△设计不合理，性能将大打折扣，严重时甚至不能正常工作，不管用什么软件，ＰＣＢ设计有个大致的程序，按顺序来会省时省力，因此我将按△△制作△△流程来介绍一下，由于国产PCB设计软件青越锋界面风格与ｗｉｎｄｏｗｓ视窗接近，操作习惯也相近，使用的人也较多，将以此软件作说明。原理图设计是前期准备工作，经常见到初学者为了省事直接就去画ＰＣＢ板了，这样将得不偿失，对简单的板子，如果熟练流程，不妨可以跳过。但是对于初学者一定要按流程来，这样一方面可以养成良好的习惯，原理图是根据设计的项目来的，只要电性连接正确没什么好说的。下面我们重点讨论一下具体的制板程序中的问题。．△△制作△△原理图根据设计△△制作△△原理图，并对原理图进行调试，直到ECR编译通过，当然在这里面，会存在很多小的细节需要注意，特别是元件的封装，在接下来的网络表生成的时候，如果缺少元件封装或者不符就会报错。．产生网络表在原理图编译通过后，就可以产生相应的网络表了，这是原理图到PCB重要的一个环节，如果原理图存在错误，网络表是无法生成导入PCB中的。．△△制作△△物理边框封闭的物理边框对以后的元件布局、走线来说是个基本平台，也对自动布局起着约束作用，否则，从原理图过来的元件会不知所措的。但这里一定要注意精确，否则以后出现安装问题麻烦可就大了。还有就是拐角地方最好用圆弧，一方面可以避免尖角划伤工人，同时又可以减轻应力作用。．元件和网络的引入把元件和网络引人画好的边框中应该很简单，但是这里往往会出问题，一定要细心地按提示的错误逐个解决，不然后面要费更大的力气。这里的问题一般来说有以下一些：元件的封装形式找不到，元件网络问题，有未使用的元件或管脚，对照提示这些问题可以很快搞定的，青越锋中不但提供了网络表导入功能，还设有手动连接飞线功能，这对需要添加删除一些网络相当方便，直接从图纸上就可以进行操作，不需要像其他PCB设计软件那样，打开网络表找到相应的网络才能添加。．元件的布局元件的布局与走线对产品的寿命、稳定性、电磁兼容都有很大的影响，是应该特别注意的地方。一般来说应该有以下一些原则：放置顺序先放置与结构有关的固定位置的元器件，如电源插座、指示灯、开关、连接件之类，这些器件放置好后用软件的ＬＯＣＫ功能将其锁定，使之以后不会被误移动。再放置线路上的特殊元件和大的元器件，如发热元件、变压器、IC等。最后放置小器件。注意散热元件布局还要特别注意散热问题。对于大功率电路，应该将那些发热元件如功率管、变压器等尽量靠边分散布局放置，便于热量散发，不要集中在一个地方，也不要高电容太近以免使电解液过早老化。．布线走线的学问是非常高深的，每人都会有自己的体会，原则上是以最短的距离和最少的板层来走线，禁止走线交叉，少用过孔甚至盲孔或埋孔。．调整完善完成布线后，要做的就是对文字、个别元件、走线做些调整以及敷铜（这项工作不宜太早，否则会影响速度，又给布线带来麻烦），同样是为了便于进行生产、调试、维修。敷铜通常指以大面积的铜箔去填充布线后留下的空白区，可以铺ＧＮＤ的铜箔，也可以铺ＶＣＣ的铜箔（但这样一旦短路容易烧毁器件，最好接地，除非不得已用来加大电源的导通面积，以承受较大的电流才接ＶＣＣ）。包地则通常指用两根地线（ＴＲＡＣ）包住一撮有特殊要求的信号线，防止它被别人干扰或干扰别人。如果用敷铜代替地线一定要注意整个地是否连通，电流大小、流向与有无特殊要求，以确保减少不必要的失误。．检查核对网络有时候会因为误操作或疏忽造成所画的板子的网络关系与原理图不同，这时检察核对是很有必要的。所以画完以后切不可急于交给制版厂家，应该先做核对，后再进行后续工作。\n",
      "**********\n",
      "层的作用是什么，和丝印层有啥区别？丝印层是给手工上件的人看的，还有就是给调板子的人看的。层为装配层，用来表示器件实体大小，贴片机焊接时才用得到。装配层可以放器件的标称值，比如电阻电容的值什么的，这个给装配维修的时候看很方便。我们在画的时候肯定会遇到和，以前一直模模糊糊的知道是阻焊层，是焊锡膏层，在用的时候不是很在意，但当用的时候要自己△△制作△△焊盘，就必须明白这两者的含义了。阻焊层：这个是反显层！有的表示无的，无的表示有。就是板上焊盘表面贴焊盘、插件焊盘、过孔外一层涂了绿油的地方，它是为了防止在过锡炉波峰焊的时候，不该上锡的地方上锡，所以称为阻焊层绿油层，我想只要见过板的都应该会看到这层绿油的，阻焊层又可以分为和两层，层是要把露出来吧，这就是我们在只显示层时看到的小圆圈或小方圈，一般比焊盘大表面意思是指阻焊层，就是用它来涂敷绿油等阻焊材料，从而防止不需要焊接的地方沾染焊锡的，这层会露出所有需要焊接的焊盘，并且开孔会比实际焊盘要大；在生成文件时候，可以观察的实际效果。在有和上画个实矩形，那么这个矩形框内就等于开了个窗口了不涂油，不涂油就是亮晶晶的铜了就是涂绿油，蓝油，红油，除了焊盘、过孔等不能涂涂了不能上焊锡其他都要涂上阻焊剂，这个阻焊剂有绿色的蓝色的红色的。在画焊盘时，要比大。（锡膏防护层）这个是正显，有就有无就无。是针对表面贴（）元件的，该层用来△△制作△△钢膜片﹐而钢膜上的孔就对应着△△电路板△△上的器件的焊点。在表面贴装器件焊接时﹐先将钢膜盖在△△电路板△△上与实际焊盘对应﹐然后将锡膏涂上﹐用刮片将多余的锡膏刮去﹐移除钢膜﹐这样器件的焊盘就加上了锡膏﹐之后将器件贴附到锡膏上面去手工或贴片机﹐最后通过回流焊机完成器件的焊接。通常钢膜上孔径的大小会比△△电路板△△上实际的焊小一些﹐通过指定一个扩展规则﹐来放大或缩小锡膏防护层。对于不同焊盘的不同要求﹐也可以在锡膏防护层中设定多重规则，系统也提供个锡膏防护层﹐分别是顶层锡膏防护层和底层锡膏防护层在有和上画个实矩形，那么这个矩形框内就等于开了个窗口了，机器就此窗口内喷上焊锡了，其实是钢网开了个窗，过波峰焊就上锡了。同时和也很容易弄混。，画边框，确定电气边界，，真正的物理边界，定位孔的就按照的尺寸来做的，但厂的工程师一般不懂这个。所以最好是发给厂之前将层删除实验室以前就发生过没删除导致厂割错边界的情况。在中经常会遇到装配层和印丝层。那么这两层又是什么含义呢？丝印层：零件的外形平面图，丝印层是指代表器件外廓的图形符号。设计时，出光绘数据时常使用此层数据。更贴切的说就是会印在板子上。装配层：，即物理外形图形。可以用于规则：，是制造装配。此属性用于布局和出装配图时用。是当板子的零件都上上了提供给人员检查零件是否有问题或其它的用途。丝印肯定是要有的但是装配层可以不要的（个人理解）。捷配工厂近期上线设计学院，欢迎广大爱好者、设计者，光临学院网站，谢谢大家。在中还经常遇到正片和负片这两个词，正片和负片只是指一个层的两种不同的显示效果。无论你这一层是设置正片还是负片，作出来的板是一样的。只是在处理的过程中，数据量，检测，以及软件的处理过程不同而已。只是一个事物的两种表达方式。正片就是，你看到什么，就是什么，你看到布线就是布线，是真是存在的。负片就是，你看到什么，就没有什么，你看到的，恰恰是需要腐蚀掉的铜皮。所以正负片工艺并不能说那个工艺就一定好于另一个工艺。例如捷配工厂所使用的是负片工艺，对于线路的精准与公差就控制的比行业好一些。无金属化孔做出来，因为是负片贴膜封孔，所以不封的孔直接接触药水，不会保留铜，所以做出来无金属化孔比较好。正片工艺是生产工厂最常用的，历史悠久，工艺成熟，对于很多非常规工艺都有很好的适应性与处理方法，比如半孔工艺，比如包边工艺等等。正片的优点是如果移动元件或者过孔需要重新铺铜，有较全面的校验。负片的优点是移动元件或者过孔不需重新铺铜，自动更新铺铜，没有全面的校验。在画通孔焊盘时孔要比引脚大，外径比孔大以上，否则焊盘太小焊接很不方便。\n",
      "**********\n",
      "相信很多人对于PCB△△电路板△△并不陌生，可能是日常生活中也能经常听到，但对PCBA或许就不太了解，甚至会和PCB混淆起来。那么什么是PCB？PCBA是如何演变出来的？PCB与PCBA的区别是什么？下面我们具体来了解下。关于PCBPCB是PrintedCircuitBoard的简称，翻译成中文就叫印制电路板，由于它是采用电子印刷术△△制作△△，故称为“印刷”△△电路板△△。PCB是电子工业中重要的电子部件，是电子元器件的支撑体，是电子元器件电气连接的载体。PCB已经极其广泛地应用在电子产品的生产制造中，之所以能得到广泛地应用，其独特的特点概括如下：1、布线密度高，体积小，重量轻，利于电子设备的小型化。2、由于图形具有重复性和一致性，减少了布线和装配的差错，节省了设备的维修、调试和检查时间。3、利于机械化、自动化生产，提高了劳动生产率并降低了电子设备的造价。4、设计上可以标准化，利于互换。关于PCBAPCBA是PrintedCircuitBoard+Assembly的简称，也就是说PCBA是经过PCB空板SMT上件，再经过DIP插件的整个制程。注：SMT和DIP都是在PCB板上集成零件的方式，其主要区别是SMT不需要在PCB上钻孔，在DIP需要将零件的PIN脚插入已经钻好的孔中。SMT（SurfaceMountedTechnology）表面贴装技术，主要利用贴装机是将一些微小型的零件贴装到PCB板上，其生产流程为：PCB板定位、印刷锡膏、贴装机贴装、过回焊炉和制成检验。DIP即“插件”，也就是在PCB版上插入零件，这是一些零件尺寸较大而且不适用于贴装技术时采用插件的形式集成零件。其主要生产流程为：贴背胶、插件、检验、过波峰焊、刷版和制成检验。*PCB与PCBA的区别*从上面的介绍就可知道，PCBA泛指的是一个加工流程，也可以理解为成品线路板，也就PCB板上的工序都完成了后才能算PCBA。而PCB则指的是一块空的印刷线路板，上面没有零件。总的来说就是：PCBA是成品板；PCB是裸板。\n"
     ]
    }
   ],
   "source": [
    "search_enginer(\"电路板 制作\")"
   ]
  },
  {
   "cell_type": "markdown",
   "metadata": {},
   "source": [
    "## Introduction to PageRank"
   ]
  },
  {
   "cell_type": "code",
   "execution_count": 37,
   "metadata": {},
   "outputs": [],
   "source": [
    "import networkx as nx"
   ]
  },
  {
   "cell_type": "code",
   "execution_count": 38,
   "metadata": {},
   "outputs": [],
   "source": [
    "import random"
   ]
  },
  {
   "cell_type": "code",
   "execution_count": 39,
   "metadata": {},
   "outputs": [],
   "source": [
    "from string import ascii_letters"
   ]
  },
  {
   "cell_type": "code",
   "execution_count": 49,
   "metadata": {},
   "outputs": [],
   "source": [
    "def generate_name():return ''.join([random.choice(ascii_letters.upper()) for _ in range(3)])"
   ]
  },
  {
   "cell_type": "code",
   "execution_count": 50,
   "metadata": {},
   "outputs": [
    {
     "data": {
      "text/plain": [
       "'OKH'"
      ]
     },
     "execution_count": 50,
     "metadata": {},
     "output_type": "execute_result"
    }
   ],
   "source": [
    "generate_name()"
   ]
  },
  {
   "cell_type": "code",
   "execution_count": 53,
   "metadata": {},
   "outputs": [],
   "source": [
    "social_graph = {\n",
    "    \"Yao\": [\"Guo\", \"Wang\", \"Tian\", \"Tim\"] + [generate_name() for _ in range(4)],\n",
    "    \"Guo\": [\"Li\"] + [generate_name() for _ in range(5)],\n",
    "    \"Wang\": [\"Li_2\"] + [generate_name() for _ in range(5)],\n",
    "    \"Li_2\": [generate_name() for _ in range(5)],\n",
    "    \"Li\": [generate_name() for _ in range(1)],\n",
    "}"
   ]
  },
  {
   "cell_type": "code",
   "execution_count": 54,
   "metadata": {},
   "outputs": [
    {
     "data": {
      "text/plain": [
       "{'Yao': ['Guo', 'Wang', 'Tian', 'Tim', 'XVY', 'VOV', 'NCP', 'JOW'],\n",
       " 'Guo': ['Li', 'OQQ', 'PYO', 'DFS', 'ILG', 'IAU'],\n",
       " 'Wang': ['Li_2', 'LEN', 'RFA', 'PAF', 'HRQ', 'VVU'],\n",
       " 'Li_2': ['UPS', 'ADV', 'PLQ', 'NCI', 'NAZ'],\n",
       " 'Li': ['LPL']}"
      ]
     },
     "execution_count": 54,
     "metadata": {},
     "output_type": "execute_result"
    }
   ],
   "source": [
    "social_graph"
   ]
  },
  {
   "cell_type": "code",
   "execution_count": 55,
   "metadata": {},
   "outputs": [],
   "source": [
    "social_nework = nx.graph.Graph(social_graph)"
   ]
  },
  {
   "cell_type": "code",
   "execution_count": 56,
   "metadata": {},
   "outputs": [],
   "source": [
    "%matplotlib inline"
   ]
  },
  {
   "cell_type": "code",
   "execution_count": 58,
   "metadata": {},
   "outputs": [
    {
     "data": {
      "image/png": "[encoded data removed]",
      "text/plain": [
       "<Figure size 432x288 with 1 Axes>"
      ]
     },
     "metadata": {
      "needs_background": "light"
     },
     "output_type": "display_data"
    }
   ],
   "source": [
    "nx.draw_networkx(social_nework)"
   ]
  },
  {
   "cell_type": "code",
   "execution_count": 59,
   "metadata": {},
   "outputs": [
    {
     "data": {
      "text/plain": [
       "[('Yao', 0.14018616244938112),\n",
       " ('Guo', 0.12625952492883674),\n",
       " ('Wang', 0.12354105488402628),\n",
       " ('Li_2', 0.11100157862592008),\n",
       " ('Li', 0.04009295437632798),\n",
       " ('LPL', 0.022595018111845305),\n",
       " ('UPS', 0.021279981196290158),\n",
       " ('ADV', 0.021279981196290158),\n",
       " ('PLQ', 0.021279981196290158),\n",
       " ('NCI', 0.021279981196290158),\n",
       " ('NAZ', 0.021279981196290158),\n",
       " ('OQQ', 0.02088716348418851),\n",
       " ('PYO', 0.02088716348418851),\n",
       " ('DFS', 0.02088716348418851),\n",
       " ('ILG', 0.02088716348418851),\n",
       " ('IAU', 0.02088716348418851),\n",
       " ('LEN', 0.020557581368083087),\n",
       " ('RFA', 0.020557581368083087),\n",
       " ('PAF', 0.020557581368083087),\n",
       " ('HRQ', 0.020557581368083087),\n",
       " ('VVU', 0.020557581368083087),\n",
       " ('Tian', 0.020450012730142263),\n",
       " ('Tim', 0.020450012730142263),\n",
       " ('XVY', 0.020450012730142263),\n",
       " ('VOV', 0.020450012730142263),\n",
       " ('NCP', 0.020450012730142263),\n",
       " ('JOW', 0.020450012730142263)]"
      ]
     },
     "execution_count": 59,
     "metadata": {},
     "output_type": "execute_result"
    }
   ],
   "source": [
    "sorted(nx.pagerank(social_nework).items(), key=lambda x: x[1], reverse=True)"
   ]
  }
 ],
 "metadata": {
  "kernelspec": {
   "display_name": "Kstone",
   "language": "python",
   "name": "kstone"
  },
  "language_info": {
   "codemirror_mode": {
    "name": "ipython",
    "version": 3
   },
   "file_extension": ".py",
   "mimetype": "text/x-python",
   "name": "python",
   "nbconvert_exporter": "python",
   "pygments_lexer": "ipython3",
   "version": "3.6.7"
  }
 },
 "nbformat": 4,
 "nbformat_minor": 2
}
