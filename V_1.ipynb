{
 "cells": [
  {
   "cell_type": "code",
   "execution_count": 1,
   "metadata": {},
   "outputs": [],
   "source": [
    "import random\n",
    "import networkx\n",
    "import matplotlib.pyplot as plt"
   ]
  },
  {
   "cell_type": "markdown",
   "metadata": {},
   "source": [
    "## Rule"
   ]
  },
  {
   "cell_type": "code",
   "execution_count": 2,
   "metadata": {},
   "outputs": [],
   "source": [
    "grammar = '''\n",
    "sentence = adj noun verb adj noun2\n",
    "adj = adj_single 和 adj_single 的 | null\n",
    "adj_single = 漂亮 | 蓝色 | 好看\n",
    "adv = 安静地 | 静静地\n",
    "noun = 猫 | 女人 | 男人\n",
    "verb = adv 看着 | adv 坐着\n",
    "noun2 = 桌子 | 皮球\n",
    "'''"
   ]
  },
  {
   "cell_type": "code",
   "execution_count": 3,
   "metadata": {},
   "outputs": [],
   "source": [
    "def build_grammar(grammar_str, split='='):\n",
    "    grammar_pattern = {}\n",
    "    for line in grammar_str.split('\\n'):\n",
    "        if not line: continue\n",
    "        stmt, expr = line.split(split)\n",
    "        grammar_pattern[stmt.strip()] = [e.split() for e in expr.split('|')]\n",
    "    return grammar_pattern"
   ]
  },
  {
   "cell_type": "code",
   "execution_count": 4,
   "metadata": {},
   "outputs": [],
   "source": [
    "grammar_pattern = build_grammar(grammar)"
   ]
  },
  {
   "cell_type": "code",
   "execution_count": 5,
   "metadata": {
    "scrolled": true
   },
   "outputs": [
    {
     "data": {
      "text/plain": [
       "{'sentence': [['adj', 'noun', 'verb', 'adj', 'noun2']],\n",
       " 'adj': [['adj_single', '和', 'adj_single', '的'], ['null']],\n",
       " 'adj_single': [['漂亮'], ['蓝色'], ['好看']],\n",
       " 'adv': [['安静地'], ['静静地']],\n",
       " 'noun': [['猫'], ['女人'], ['男人']],\n",
       " 'verb': [['adv', '看着'], ['adv', '坐着']],\n",
       " 'noun2': [['桌子'], ['皮球']]}"
      ]
     },
     "execution_count": 5,
     "metadata": {},
     "output_type": "execute_result"
    }
   ],
   "source": [
    "grammar_pattern"
   ]
  },
  {
   "cell_type": "code",
   "execution_count": 6,
   "metadata": {},
   "outputs": [],
   "source": [
    "def generate(grammar_pattern, target):\n",
    "    if target not in grammar_pattern: return target\n",
    "    expr = random.choice(grammar_pattern[target])\n",
    "    tokens = [generate(grammar_pattern, e) for e in expr]\n",
    "    return ''.join([t for t in tokens if t != 'null'])"
   ]
  },
  {
   "cell_type": "code",
   "execution_count": 7,
   "metadata": {},
   "outputs": [
    {
     "data": {
      "text/plain": [
       "'好看和好看的猫静静地看着漂亮和漂亮的皮球'"
      ]
     },
     "execution_count": 7,
     "metadata": {},
     "output_type": "execute_result"
    }
   ],
   "source": [
    "generate(grammar_pattern, 'sentence')"
   ]
  },
  {
   "cell_type": "markdown",
   "metadata": {},
   "source": [
    "## Search"
   ]
  },
  {
   "cell_type": "code",
   "execution_count": 8,
   "metadata": {},
   "outputs": [],
   "source": [
    "graph = {\n",
    "    'A' :'B B B C',\n",
    "    'B' : 'A C',\n",
    "    'C' : 'A B D E',\n",
    "    'D' : 'C',\n",
    "    'E' : 'C F',\n",
    "    'F' : 'E'\n",
    "}"
   ]
  },
  {
   "cell_type": "code",
   "execution_count": 9,
   "metadata": {},
   "outputs": [],
   "source": [
    "for k in graph:\n",
    "    graph[k] = set(graph[k].split())"
   ]
  },
  {
   "cell_type": "code",
   "execution_count": 16,
   "metadata": {},
   "outputs": [
    {
     "data": {
      "image/png": "[encoded data removed]",
      "text/plain": [
       "<Figure size 432x288 with 1 Axes>"
      ]
     },
     "metadata": {},
     "output_type": "display_data"
    }
   ],
   "source": [
    "Graph = networkx.Graph(graph)\n",
    "networkx.draw(Graph, with_labels=True)"
   ]
  },
  {
   "cell_type": "code",
   "execution_count": 17,
   "metadata": {},
   "outputs": [
    {
     "name": "stdout",
     "output_type": "stream",
     "text": [
      "   I am looking at : A\n",
      "   I am looking at : B\n",
      "   I am looking at : C\n",
      "   I am looking at : D\n",
      "   I am looking at : E\n",
      "   I am looking at : F\n"
     ]
    }
   ],
   "source": [
    "seen = set()\n",
    "need_visited = ['A']\n",
    "while need_visited:\n",
    "    node = need_visited.pop(0)\n",
    "    if node in seen: continue\n",
    "    print('   I am looking at : {}'.format(node))\n",
    "    need_visited += graph[node]\n",
    "    seen.add(node)"
   ]
  },
  {
   "cell_type": "code",
   "execution_count": 18,
   "metadata": {},
   "outputs": [],
   "source": [
    "graph_long = {\n",
    "    '1': '2 7',\n",
    "    '2': '3', \n",
    "    '3': '4', \n",
    "    '4': '5', \n",
    "    '5': '6 10', \n",
    "    '7': '8',\n",
    "    '6': '5',\n",
    "    '8': '9',\n",
    "    '9': '10', \n",
    "    '10': '5 11', \n",
    "    '11': '12',\n",
    "    '12': '11',\n",
    "}"
   ]
  },
  {
   "cell_type": "code",
   "execution_count": 19,
   "metadata": {},
   "outputs": [],
   "source": [
    "for n in graph_long:\n",
    "    graph_long[n] = graph_long[n].split()"
   ]
  },
  {
   "cell_type": "code",
   "execution_count": 20,
   "metadata": {},
   "outputs": [
    {
     "data": {
      "image/png": "[encoded data removed]",
      "text/plain": [
       "<Figure size 432x288 with 1 Axes>"
      ]
     },
     "metadata": {},
     "output_type": "display_data"
    }
   ],
   "source": [
    "Graph_long = networkx.Graph(graph_long)\n",
    "networkx.draw(Graph_long, with_labels=True)"
   ]
  },
  {
   "cell_type": "code",
   "execution_count": 21,
   "metadata": {},
   "outputs": [
    {
     "name": "stdout",
     "output_type": "stream",
     "text": [
      "   I am looking at : 1\n",
      "   I am looking at : 2\n",
      "   I am looking at : 3\n",
      "   I am looking at : 4\n",
      "   I am looking at : 5\n",
      "   I am looking at : 6\n",
      "   I am looking at : 10\n",
      "   I am looking at : 11\n",
      "   I am looking at : 12\n",
      "   I am looking at : 7\n",
      "   I am looking at : 8\n",
      "   I am looking at : 9\n"
     ]
    }
   ],
   "source": [
    "seen = set()\n",
    "need_visited = ['1']\n",
    "while need_visited:\n",
    "    node = need_visited.pop(0)\n",
    "    if node in seen: continue\n",
    "    print('   I am looking at : {}'.format(node))\n",
    "    need_visited = graph_long[node] + need_visited\n",
    "    seen.add(node)"
   ]
  },
  {
   "cell_type": "code",
   "execution_count": 22,
   "metadata": {},
   "outputs": [],
   "source": [
    "def search(graph, concat_func):\n",
    "    seen = set()\n",
    "    need_visited = ['1']\n",
    "    while need_visited:\n",
    "        node = need_visited.pop(0)\n",
    "        if node in seen: continue\n",
    "        print(   'I am looking at : {}'.format(node))\n",
    "        seen.add(node)\n",
    "        new_discoveried = graph[node]\n",
    "        need_visited = concat_func(new_discoveried, need_visited)"
   ]
  },
  {
   "cell_type": "code",
   "execution_count": 23,
   "metadata": {},
   "outputs": [],
   "source": [
    "def treat_new_discoveried_more_important(new_discoveried, need_visited):\n",
    "    return new_discoveried + need_visited"
   ]
  },
  {
   "cell_type": "code",
   "execution_count": 24,
   "metadata": {},
   "outputs": [],
   "source": [
    "def treat_already_dicoveried_more_important(new_discoveried, need_visited):\n",
    "    return need_visited + new_discoveried"
   ]
  },
  {
   "cell_type": "code",
   "execution_count": 25,
   "metadata": {},
   "outputs": [],
   "source": [
    "from functools import partial"
   ]
  },
  {
   "cell_type": "code",
   "execution_count": 26,
   "metadata": {},
   "outputs": [],
   "source": [
    "dfs = partial(search, concat_func=treat_new_discoveried_more_important)"
   ]
  },
  {
   "cell_type": "code",
   "execution_count": 27,
   "metadata": {},
   "outputs": [
    {
     "name": "stdout",
     "output_type": "stream",
     "text": [
      "I am looking at : 1\n",
      "I am looking at : 2\n",
      "I am looking at : 3\n",
      "I am looking at : 4\n",
      "I am looking at : 5\n",
      "I am looking at : 6\n",
      "I am looking at : 10\n",
      "I am looking at : 11\n",
      "I am looking at : 12\n",
      "I am looking at : 7\n",
      "I am looking at : 8\n",
      "I am looking at : 9\n"
     ]
    }
   ],
   "source": [
    "dfs(graph_long)"
   ]
  },
  {
   "cell_type": "code",
   "execution_count": 28,
   "metadata": {},
   "outputs": [],
   "source": [
    "bfs = partial(search, concat_func=treat_already_dicoveried_more_important)"
   ]
  },
  {
   "cell_type": "code",
   "execution_count": 29,
   "metadata": {},
   "outputs": [
    {
     "name": "stdout",
     "output_type": "stream",
     "text": [
      "I am looking at : 1\n",
      "I am looking at : 2\n",
      "I am looking at : 7\n",
      "I am looking at : 3\n",
      "I am looking at : 8\n",
      "I am looking at : 4\n",
      "I am looking at : 9\n",
      "I am looking at : 5\n",
      "I am looking at : 10\n",
      "I am looking at : 6\n",
      "I am looking at : 11\n",
      "I am looking at : 12\n"
     ]
    }
   ],
   "source": [
    "bfs(graph_long)"
   ]
  },
  {
   "cell_type": "code",
   "execution_count": 30,
   "metadata": {},
   "outputs": [],
   "source": [
    "BJ = 'Beijing'\n",
    "SZ = 'Shenzhen'\n",
    "GZ = 'Guangzhou'\n",
    "WH = 'Wuhan'\n",
    "HLG = 'Heilongjiang'\n",
    "NY = 'New York City'\n",
    "CM = 'Chiangmai'\n",
    "SG = 'Singapore'"
   ]
  },
  {
   "cell_type": "code",
   "execution_count": 31,
   "metadata": {},
   "outputs": [],
   "source": [
    "air_route = {\n",
    "    BJ: {SZ, GZ, WH, HLG, NY},\n",
    "    GZ: {WH, BJ, CM},\n",
    "    SZ: {BJ, SG},\n",
    "    WH: {BJ, GZ},\n",
    "    HLG: {BJ},\n",
    "    CM: {GZ},\n",
    "    NY: {BJ}\n",
    "}"
   ]
  },
  {
   "cell_type": "code",
   "execution_count": 32,
   "metadata": {},
   "outputs": [],
   "source": [
    "air_route = networkx.Graph(air_route)"
   ]
  },
  {
   "cell_type": "code",
   "execution_count": 36,
   "metadata": {},
   "outputs": [
    {
     "data": {
      "image/png": "[encoded data removed]",
      "text/plain": [
       "<Figure size 432x288 with 1 Axes>"
      ]
     },
     "metadata": {},
     "output_type": "display_data"
    }
   ],
   "source": [
    "networkx.draw(air_route, with_labels=True)"
   ]
  },
  {
   "cell_type": "code",
   "execution_count": 37,
   "metadata": {},
   "outputs": [],
   "source": [
    "def search_destination(graph, start, destination):\n",
    "    pathes = [[start]]\n",
    "    seen = set()\n",
    "    chosen_pathes = []\n",
    "    while pathes:\n",
    "        path = pathes.pop(0)\n",
    "        frontier = path[-1]\n",
    "        if frontier in seen: continue\n",
    "        for city in graph[frontier]:\n",
    "            if city in path: continue\n",
    "            new_path = path + [city]\n",
    "            pathes.append(new_path)\n",
    "            if city == destination: return new_path\n",
    "        seen.add(frontier)\n",
    "    return chosen_pathes"
   ]
  },
  {
   "cell_type": "code",
   "execution_count": 38,
   "metadata": {},
   "outputs": [],
   "source": [
    "def draw_route(cities): return ' ✈️ -> '.join(cities)"
   ]
  },
  {
   "cell_type": "code",
   "execution_count": 40,
   "metadata": {},
   "outputs": [
    {
     "data": {
      "text/plain": [
       "'New York City ✈️ -> Beijing ✈️ -> Guangzhou'"
      ]
     },
     "execution_count": 40,
     "metadata": {},
     "output_type": "execute_result"
    }
   ],
   "source": [
    "draw_route(search_destination(air_route, NY, GZ))"
   ]
  }
 ],
 "metadata": {
  "kernelspec": {
   "display_name": "Kstone",
   "language": "python",
   "name": "kstone"
  },
  "language_info": {
   "codemirror_mode": {
    "name": "ipython",
    "version": 3
   },
   "file_extension": ".py",
   "mimetype": "text/x-python",
   "name": "python",
   "nbconvert_exporter": "python",
   "pygments_lexer": "ipython3",
   "version": "3.6.7"
  }
 },
 "nbformat": 4,
 "nbformat_minor": 2
}
