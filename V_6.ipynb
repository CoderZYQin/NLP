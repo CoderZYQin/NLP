{
 "cells": [
  {
   "cell_type": "markdown",
   "metadata": {},
   "source": [
    "## Keywords"
   ]
  },
  {
   "cell_type": "code",
   "execution_count": 1,
   "metadata": {},
   "outputs": [],
   "source": [
    "import pandas as pd"
   ]
  },
  {
   "cell_type": "code",
   "execution_count": 2,
   "metadata": {},
   "outputs": [],
   "source": [
    "content = pd.read_csv('sqlResult_1558435.csv', encoding='gb18030')"
   ]
  },
  {
   "cell_type": "code",
   "execution_count": 3,
   "metadata": {},
   "outputs": [
    {
     "data": {
      "text/html": [
       "<div>\n",
       "<style scoped>\n",
       "    .dataframe tbody tr th:only-of-type {\n",
       "        vertical-align: middle;\n",
       "    }\n",
       "\n",
       "    .dataframe tbody tr th {\n",
       "        vertical-align: top;\n",
       "    }\n",
       "\n",
       "    .dataframe thead th {\n",
       "        text-align: right;\n",
       "    }\n",
       "</style>\n",
       "<table border=\"1\" class=\"dataframe\">\n",
       "  <thead>\n",
       "    <tr style=\"text-align: right;\">\n",
       "      <th></th>\n",
       "      <th>id</th>\n",
       "      <th>author</th>\n",
       "      <th>source</th>\n",
       "      <th>content</th>\n",
       "      <th>feature</th>\n",
       "      <th>title</th>\n",
       "      <th>url</th>\n",
       "    </tr>\n",
       "  </thead>\n",
       "  <tbody>\n",
       "    <tr>\n",
       "      <th>0</th>\n",
       "      <td>89617</td>\n",
       "      <td>NaN</td>\n",
       "      <td>快科技@http://www.kkj.cn/</td>\n",
       "      <td>此外，自本周（6月12日）起，除小米手机6等15款机型外，其余机型已暂停更新发布（含开发版/...</td>\n",
       "      <td>{\"type\":\"科技\",\"site\":\"cnbeta\",\"commentNum\":\"37\"...</td>\n",
       "      <td>小米MIUI 9首批机型曝光：共计15款</td>\n",
       "      <td>http://www.cnbeta.com/articles/tech/623597.htm</td>\n",
       "    </tr>\n",
       "    <tr>\n",
       "      <th>1</th>\n",
       "      <td>89616</td>\n",
       "      <td>NaN</td>\n",
       "      <td>快科技@http://www.kkj.cn/</td>\n",
       "      <td>骁龙835作为唯一通过Windows 10桌面平台认证的ARM处理器，高通强调，不会因为只考...</td>\n",
       "      <td>{\"type\":\"科技\",\"site\":\"cnbeta\",\"commentNum\":\"15\"...</td>\n",
       "      <td>骁龙835在Windows 10上的性能表现有望改善</td>\n",
       "      <td>http://www.cnbeta.com/articles/tech/623599.htm</td>\n",
       "    </tr>\n",
       "    <tr>\n",
       "      <th>2</th>\n",
       "      <td>89615</td>\n",
       "      <td>NaN</td>\n",
       "      <td>快科技@http://www.kkj.cn/</td>\n",
       "      <td>此前的一加3T搭载的是3400mAh电池，DashCharge快充规格为5V/4A。\\r\\n...</td>\n",
       "      <td>{\"type\":\"科技\",\"site\":\"cnbeta\",\"commentNum\":\"18\"...</td>\n",
       "      <td>一加手机5细节曝光：3300mAh、充半小时用1天</td>\n",
       "      <td>http://www.cnbeta.com/articles/tech/623601.htm</td>\n",
       "    </tr>\n",
       "    <tr>\n",
       "      <th>3</th>\n",
       "      <td>89614</td>\n",
       "      <td>NaN</td>\n",
       "      <td>新华社</td>\n",
       "      <td>这是6月18日在葡萄牙中部大佩德罗冈地区拍摄的被森林大火烧毁的汽车。新华社记者张立云摄\\r\\n</td>\n",
       "      <td>{\"type\":\"国际新闻\",\"site\":\"环球\",\"commentNum\":\"0\",\"j...</td>\n",
       "      <td>葡森林火灾造成至少62人死亡 政府宣布进入紧急状态（组图）</td>\n",
       "      <td>http://world.huanqiu.com/hot/2017-06/10866126....</td>\n",
       "    </tr>\n",
       "    <tr>\n",
       "      <th>4</th>\n",
       "      <td>89613</td>\n",
       "      <td>胡淑丽_MN7479</td>\n",
       "      <td>深圳大件事</td>\n",
       "      <td>（原标题：44岁女子跑深圳约会网友被拒，暴雨中裸身奔走……）\\r\\n@深圳交警微博称：昨日清...</td>\n",
       "      <td>{\"type\":\"新闻\",\"site\":\"网易热门\",\"commentNum\":\"978\",...</td>\n",
       "      <td>44岁女子约网友被拒暴雨中裸奔 交警为其披衣相随</td>\n",
       "      <td>http://news.163.com/17/0618/00/CN617P3Q0001875...</td>\n",
       "    </tr>\n",
       "  </tbody>\n",
       "</table>\n",
       "</div>"
      ],
      "text/plain": [
       "      id      author                  source  \\\n",
       "0  89617         NaN  快科技@http://www.kkj.cn/   \n",
       "1  89616         NaN  快科技@http://www.kkj.cn/   \n",
       "2  89615         NaN  快科技@http://www.kkj.cn/   \n",
       "3  89614         NaN                     新华社   \n",
       "4  89613  胡淑丽_MN7479                   深圳大件事   \n",
       "\n",
       "                                             content  \\\n",
       "0  此外，自本周（6月12日）起，除小米手机6等15款机型外，其余机型已暂停更新发布（含开发版/...   \n",
       "1  骁龙835作为唯一通过Windows 10桌面平台认证的ARM处理器，高通强调，不会因为只考...   \n",
       "2  此前的一加3T搭载的是3400mAh电池，DashCharge快充规格为5V/4A。\\r\\n...   \n",
       "3    这是6月18日在葡萄牙中部大佩德罗冈地区拍摄的被森林大火烧毁的汽车。新华社记者张立云摄\\r\\n   \n",
       "4  （原标题：44岁女子跑深圳约会网友被拒，暴雨中裸身奔走……）\\r\\n@深圳交警微博称：昨日清...   \n",
       "\n",
       "                                             feature  \\\n",
       "0  {\"type\":\"科技\",\"site\":\"cnbeta\",\"commentNum\":\"37\"...   \n",
       "1  {\"type\":\"科技\",\"site\":\"cnbeta\",\"commentNum\":\"15\"...   \n",
       "2  {\"type\":\"科技\",\"site\":\"cnbeta\",\"commentNum\":\"18\"...   \n",
       "3  {\"type\":\"国际新闻\",\"site\":\"环球\",\"commentNum\":\"0\",\"j...   \n",
       "4  {\"type\":\"新闻\",\"site\":\"网易热门\",\"commentNum\":\"978\",...   \n",
       "\n",
       "                           title  \\\n",
       "0           小米MIUI 9首批机型曝光：共计15款   \n",
       "1     骁龙835在Windows 10上的性能表现有望改善   \n",
       "2      一加手机5细节曝光：3300mAh、充半小时用1天   \n",
       "3  葡森林火灾造成至少62人死亡 政府宣布进入紧急状态（组图）   \n",
       "4       44岁女子约网友被拒暴雨中裸奔 交警为其披衣相随   \n",
       "\n",
       "                                                 url  \n",
       "0     http://www.cnbeta.com/articles/tech/623597.htm  \n",
       "1     http://www.cnbeta.com/articles/tech/623599.htm  \n",
       "2     http://www.cnbeta.com/articles/tech/623601.htm  \n",
       "3  http://world.huanqiu.com/hot/2017-06/10866126....  \n",
       "4  http://news.163.com/17/0618/00/CN617P3Q0001875...  "
      ]
     },
     "execution_count": 3,
     "metadata": {},
     "output_type": "execute_result"
    }
   ],
   "source": [
    "content.head()"
   ]
  },
  {
   "cell_type": "code",
   "execution_count": 4,
   "metadata": {},
   "outputs": [
    {
     "data": {
      "text/plain": [
       "id                                                     89614\n",
       "author                                                   NaN\n",
       "source                                                   新华社\n",
       "content      这是6月18日在葡萄牙中部大佩德罗冈地区拍摄的被森林大火烧毁的汽车。新华社记者张立云摄\\r\\n\n",
       "feature    {\"type\":\"国际新闻\",\"site\":\"环球\",\"commentNum\":\"0\",\"j...\n",
       "title                          葡森林火灾造成至少62人死亡 政府宣布进入紧急状态（组图）\n",
       "url        http://world.huanqiu.com/hot/2017-06/10866126....\n",
       "Name: 3, dtype: object"
      ]
     },
     "execution_count": 4,
     "metadata": {},
     "output_type": "execute_result"
    }
   ],
   "source": [
    "content.iloc[3]"
   ]
  },
  {
   "cell_type": "markdown",
   "metadata": {},
   "source": [
    "## Term Frequency"
   ]
  },
  {
   "cell_type": "code",
   "execution_count": 5,
   "metadata": {},
   "outputs": [
    {
     "data": {
      "text/plain": [
       "'此外，自本周（6月12日）起，除小米手机6等15款机型外，其余机型已暂停更新发布（含开发版/体验版内测，稳定版暂不受影响），以确保工程师可以集中全部精力进行系统优化工作。有人猜测这也是将精力主要用到MIUI 9的研发之中。\\r\\nMIUI 8去年5月发布，距今已有一年有余，也是时候更新换代了。\\r\\n当然，关于MIUI 9的确切信息，我们还是等待官方消息。\\r\\n'"
      ]
     },
     "execution_count": 5,
     "metadata": {},
     "output_type": "execute_result"
    }
   ],
   "source": [
    "content.iloc[0]['content']"
   ]
  },
  {
   "cell_type": "code",
   "execution_count": 6,
   "metadata": {},
   "outputs": [],
   "source": [
    "import jieba"
   ]
  },
  {
   "cell_type": "code",
   "execution_count": 7,
   "metadata": {},
   "outputs": [],
   "source": [
    "def cut(string): return list(jieba.cut(string))"
   ]
  },
  {
   "cell_type": "code",
   "execution_count": 8,
   "metadata": {},
   "outputs": [
    {
     "name": "stderr",
     "output_type": "stream",
     "text": [
      "Building prefix dict from the default dictionary ...\n",
      "Dumping model to file cache /var/folders/_8/f14fxxnn7w13cd0l5x9hl4bm0000gn/T/jieba.cache\n",
      "Loading model cost 0.988 seconds.\n",
      "Prefix dict has been built succesfully.\n"
     ]
    }
   ],
   "source": [
    "content_of_xiaomi = cut(content.iloc[0]['content'])"
   ]
  },
  {
   "cell_type": "code",
   "execution_count": 9,
   "metadata": {},
   "outputs": [],
   "source": [
    "from collections import Counter"
   ]
  },
  {
   "cell_type": "code",
   "execution_count": 10,
   "metadata": {},
   "outputs": [
    {
     "data": {
      "text/plain": [
       "[('，', 9),\n",
       " ('。', 4),\n",
       " ('MIUI', 3),\n",
       " (' ', 3),\n",
       " ('\\r\\n', 3),\n",
       " ('（', 2),\n",
       " ('6', 2),\n",
       " ('月', 2),\n",
       " ('）', 2),\n",
       " ('机型', 2),\n",
       " ('发布', 2),\n",
       " ('精力', 2),\n",
       " ('也', 2),\n",
       " ('是', 2),\n",
       " ('9', 2),\n",
       " ('的', 2),\n",
       " ('此外', 1),\n",
       " ('自', 1),\n",
       " ('本周', 1),\n",
       " ('12', 1),\n",
       " ('日', 1),\n",
       " ('起', 1),\n",
       " ('除', 1),\n",
       " ('小米', 1),\n",
       " ('手机', 1),\n",
       " ('等', 1),\n",
       " ('15', 1),\n",
       " ('款', 1),\n",
       " ('外', 1),\n",
       " ('其余', 1),\n",
       " ('已', 1),\n",
       " ('暂停', 1),\n",
       " ('更新', 1),\n",
       " ('含', 1),\n",
       " ('开发', 1),\n",
       " ('版', 1),\n",
       " ('/', 1),\n",
       " ('体验版', 1),\n",
       " ('内测', 1),\n",
       " ('稳定版', 1),\n",
       " ('暂不受', 1),\n",
       " ('影响', 1),\n",
       " ('以', 1),\n",
       " ('确保', 1),\n",
       " ('工程师', 1),\n",
       " ('可以', 1),\n",
       " ('集中', 1),\n",
       " ('全部', 1),\n",
       " ('进行', 1),\n",
       " ('系统优化', 1),\n",
       " ('工作', 1),\n",
       " ('有人', 1),\n",
       " ('猜测', 1),\n",
       " ('这', 1),\n",
       " ('将', 1),\n",
       " ('主要', 1),\n",
       " ('用到', 1),\n",
       " ('研发', 1),\n",
       " ('之中', 1),\n",
       " ('8', 1),\n",
       " ('去年', 1),\n",
       " ('5', 1),\n",
       " ('距今已有', 1),\n",
       " ('一年', 1),\n",
       " ('有余', 1),\n",
       " ('时候', 1),\n",
       " ('更新换代', 1),\n",
       " ('了', 1),\n",
       " ('当然', 1),\n",
       " ('关于', 1),\n",
       " ('确切', 1),\n",
       " ('信息', 1),\n",
       " ('我们', 1),\n",
       " ('还是', 1),\n",
       " ('等待', 1),\n",
       " ('官方消息', 1)]"
      ]
     },
     "execution_count": 10,
     "metadata": {},
     "output_type": "execute_result"
    }
   ],
   "source": [
    "Counter(content_of_xiaomi).most_common()"
   ]
  },
  {
   "cell_type": "markdown",
   "metadata": {},
   "source": [
    "## Document Frequency"
   ]
  },
  {
   "cell_type": "code",
   "execution_count": 11,
   "metadata": {},
   "outputs": [],
   "source": [
    "content = content.fillna('')"
   ]
  },
  {
   "cell_type": "code",
   "execution_count": 12,
   "metadata": {},
   "outputs": [],
   "source": [
    "all_news_content = content['content']"
   ]
  },
  {
   "cell_type": "code",
   "execution_count": 13,
   "metadata": {},
   "outputs": [],
   "source": [
    "all_occurences = [set(cut(c)) for c in all_news_content]"
   ]
  },
  {
   "cell_type": "code",
   "execution_count": 14,
   "metadata": {},
   "outputs": [],
   "source": [
    "import math"
   ]
  },
  {
   "cell_type": "code",
   "execution_count": 15,
   "metadata": {},
   "outputs": [],
   "source": [
    "def inverse_document_frequency(word):\n",
    "    eps = 1e-6\n",
    "    return math.log10(len(all_occurences) / ((sum(1 for w in all_occurences if word in w)) + eps))"
   ]
  },
  {
   "cell_type": "code",
   "execution_count": 16,
   "metadata": {},
   "outputs": [
    {
     "data": {
      "text/plain": [
       "1.0545143921579558"
      ]
     },
     "execution_count": 16,
     "metadata": {},
     "output_type": "execute_result"
    }
   ],
   "source": [
    "inverse_document_frequency('我们')"
   ]
  },
  {
   "cell_type": "code",
   "execution_count": 17,
   "metadata": {},
   "outputs": [],
   "source": [
    "def tf(word, cut_words_counter):\n",
    "    return cut_words_counter[word] / sum(cut_words_counter.values())"
   ]
  },
  {
   "cell_type": "code",
   "execution_count": 18,
   "metadata": {},
   "outputs": [
    {
     "data": {
      "text/plain": [
       "0.009615384615384616"
      ]
     },
     "execution_count": 18,
     "metadata": {},
     "output_type": "execute_result"
    }
   ],
   "source": [
    "tf('小米', Counter(content_of_xiaomi))"
   ]
  },
  {
   "cell_type": "code",
   "execution_count": 19,
   "metadata": {},
   "outputs": [],
   "source": [
    "def tf_idf(word, cut_words_counter):\n",
    "    w_tf = tf(word, cut_words_counter)\n",
    "    w_idf = inverse_document_frequency(word)\n",
    "    return w_tf * w_idf"
   ]
  },
  {
   "cell_type": "code",
   "execution_count": 20,
   "metadata": {},
   "outputs": [
    {
     "data": {
      "text/plain": [
       "0.02847245426604233"
      ]
     },
     "execution_count": 20,
     "metadata": {},
     "output_type": "execute_result"
    }
   ],
   "source": [
    "tf_idf('小米', Counter(content_of_xiaomi))"
   ]
  },
  {
   "cell_type": "code",
   "execution_count": 21,
   "metadata": {},
   "outputs": [],
   "source": [
    "def get_words_importance(cut_words):\n",
    "    importance = {\n",
    "\n",
    "        w: tf_idf(w, Counter(cut_words)) for w in set(cut_words)\n",
    "\n",
    "    }\n",
    "    return sorted(importance.items(), key=lambda x: x[1], reverse=True)"
   ]
  },
  {
   "cell_type": "code",
   "execution_count": 22,
   "metadata": {},
   "outputs": [],
   "source": [
    "test_news = \"\"\"\n",
    "海外网12月12日电 连日来，加拿大当局以美国要求为由拘押华为公司CFO孟晚舟一事引发舆论高度关注。随着事件持续发酵，当地时间11日，加拿大不列颠哥伦比亚省高等法院继续举行对华为CFO孟晚舟女士的保释听证，听证会上，孟晚舟获准保释，需交1000万加元保释金，其中750万加元现金，另有5名保释人。\n",
    "\n",
    "另据环球网，\n",
    "\n",
    "【孟晚舟获得保释】加拿大法院同意给予孟晚舟保释，但她必须遵守多达16项条件，她不得离开加拿大，并全天24小时处在加方监视下。\n",
    "事情回顾：\n",
    "\n",
    "加拿大司法部发言人于5日称，孟晚舟于12月1日在温哥华转机时被捕，美国已要求引渡她，加拿大法院定于7日就此事举行保释听证会。加拿大司法部当天以此事已发布报道禁令为由，拒绝提供其他细节。美国方面也没有第一时间对拘押理由作出任何澄清。而且迄今为止，不论加方还是美方，都未向中方提供任何当事人违反两国法律的证据。\n",
    "\n",
    "中方得知此事后第一时间向当事人提供了领事协助。中国驻加拿大使馆指责这一逮捕严重侵犯人权，使馆对此表达强烈抗议，同时要求美加两国政府恢复孟晚舟女士人身自由。\n",
    "\n",
    "中国外交部连续多天发声，向加方、美方提出严正交涉，表明严正立场，要求对方立即对拘押理由作出澄清，立即释放被拘押人员，切实保障当事人的合法、正当权益。\n",
    "\n",
    "中国外交部副部长乐玉成日前也紧急召见美国驻华大使布兰斯塔德，就美方无理要求加方拘押孟晚舟提出严正交涉和强烈抗议。乐玉成指出，美方所作所为严重侵犯中国公民的合法、正当权益，性质极其恶劣。中方对此坚决反对，强烈敦促美方务必高度重视中方严正立场，立即采取措施纠正错误做法，撤销对中国公民的逮捕令。中方将视美方行动作出进一步反应。\n",
    "\n",
    "孟晚舟是华为创始人任正非的女儿，她不仅担任华为CFO，还是华为副董事长。孟晚舟毕业于华中理工大学，硕士。1993年加入华为。历任公司国际会计部总监、华为香港公司首席财务官、账务管理部总裁。现任公司CFO、副董事长。\n",
    "\n",
    "近年，孟晚舟致力于华为财经管理的精细化和综合化，持续建设资金风险管理体系、税务遵从管理体系，并积极推动财经作业高效、敏捷、智能地开展。\n",
    "\"\"\""
   ]
  },
  {
   "cell_type": "code",
   "execution_count": 23,
   "metadata": {},
   "outputs": [],
   "source": [
    "cut_test_news = cut(test_news)"
   ]
  },
  {
   "cell_type": "code",
   "execution_count": 24,
   "metadata": {},
   "outputs": [],
   "source": [
    "huawei_importance = get_words_importance(cut_test_news)"
   ]
  },
  {
   "cell_type": "code",
   "execution_count": 25,
   "metadata": {},
   "outputs": [],
   "source": [
    "import wordcloud"
   ]
  },
  {
   "cell_type": "code",
   "execution_count": 26,
   "metadata": {},
   "outputs": [],
   "source": [
    "import matplotlib.pyplot as plt\n",
    "%matplotlib inline"
   ]
  },
  {
   "cell_type": "code",
   "execution_count": 27,
   "metadata": {},
   "outputs": [],
   "source": [
    "import numpy as np"
   ]
  },
  {
   "cell_type": "code",
   "execution_count": 28,
   "metadata": {},
   "outputs": [],
   "source": [
    "from PIL import Image"
   ]
  },
  {
   "cell_type": "code",
   "execution_count": 29,
   "metadata": {},
   "outputs": [],
   "source": [
    "huawei_mask = np.array(Image.open('alice_mask.png'))"
   ]
  },
  {
   "cell_type": "code",
   "execution_count": 30,
   "metadata": {},
   "outputs": [],
   "source": [
    "word_cloud = wordcloud.WordCloud(font_path='simhei.ttf', mask=huawei_mask)"
   ]
  },
  {
   "cell_type": "code",
   "execution_count": 31,
   "metadata": {},
   "outputs": [],
   "source": [
    "def plot_word_cloud_by_importance(importance):\n",
    "    plt.imshow(word_cloud.generate_from_frequencies({w: fre for w, fre in huawei_importance}))"
   ]
  },
  {
   "cell_type": "code",
   "execution_count": 32,
   "metadata": {},
   "outputs": [
    {
     "data": {
      "text/plain": [
       "<wordcloud.wordcloud.WordCloud at 0x14ec97dd8>"
      ]
     },
     "execution_count": 32,
     "metadata": {},
     "output_type": "execute_result"
    }
   ],
   "source": [
    "word_cloud.generate_from_frequencies({w: fre for w, fre in huawei_importance}).to_file('mask_text.png')"
   ]
  },
  {
   "cell_type": "code",
   "execution_count": 33,
   "metadata": {},
   "outputs": [
    {
     "data": {
      "image/png": "[encoded data removed]",
      "text/plain": [
       "<Figure size 432x288 with 1 Axes>"
      ]
     },
     "metadata": {
      "needs_background": "light"
     },
     "output_type": "display_data"
    }
   ],
   "source": [
    "plot_word_cloud_by_importance(huawei_importance)"
   ]
  },
  {
   "cell_type": "markdown",
   "metadata": {},
   "source": [
    "## Get the related keywords"
   ]
  },
  {
   "cell_type": "code",
   "execution_count": 34,
   "metadata": {},
   "outputs": [],
   "source": [
    "import gensim"
   ]
  },
  {
   "cell_type": "code",
   "execution_count": 35,
   "metadata": {},
   "outputs": [],
   "source": [
    "all_content = ' '.join(all_news_content.tolist())"
   ]
  },
  {
   "cell_type": "code",
   "execution_count": 36,
   "metadata": {},
   "outputs": [],
   "source": [
    "import re"
   ]
  },
  {
   "cell_type": "code",
   "execution_count": 37,
   "metadata": {},
   "outputs": [],
   "source": [
    "def token(string):\n",
    "    return re.findall(r'[\\w\\d]+', string)"
   ]
  },
  {
   "cell_type": "code",
   "execution_count": 38,
   "metadata": {},
   "outputs": [],
   "source": [
    "all_content = ''.join(token(all_content))"
   ]
  },
  {
   "cell_type": "code",
   "execution_count": 39,
   "metadata": {},
   "outputs": [
    {
     "data": {
      "text/plain": [
       "33328544"
      ]
     },
     "execution_count": 39,
     "metadata": {},
     "output_type": "execute_result"
    }
   ],
   "source": [
    "len(all_content)"
   ]
  },
  {
   "cell_type": "code",
   "execution_count": 40,
   "metadata": {},
   "outputs": [],
   "source": [
    "all_cut_words = cut(all_content)"
   ]
  },
  {
   "cell_type": "code",
   "execution_count": 41,
   "metadata": {},
   "outputs": [],
   "source": [
    "from gensim.models import Word2Vec"
   ]
  },
  {
   "cell_type": "code",
   "execution_count": 42,
   "metadata": {},
   "outputs": [],
   "source": [
    "from gensim.models.word2vec import LineSentence"
   ]
  },
  {
   "cell_type": "code",
   "execution_count": 43,
   "metadata": {},
   "outputs": [],
   "source": [
    "with open('news_words.txt', 'w', encoding='utf-8') as f:\n",
    "    f.write(' '.join(all_cut_words))"
   ]
  },
  {
   "cell_type": "code",
   "execution_count": 44,
   "metadata": {},
   "outputs": [],
   "source": [
    "news_word2vec = Word2Vec(LineSentence('news_words.txt'), size=35, workers=8)"
   ]
  },
  {
   "cell_type": "code",
   "execution_count": 45,
   "metadata": {},
   "outputs": [
    {
     "name": "stderr",
     "output_type": "stream",
     "text": [
      "/anaconda3/envs/Kstone/lib/python3.6/site-packages/ipykernel_launcher.py:1: DeprecationWarning: Call to deprecated `most_similar` (Method will be removed in 4.0.0, use self.wv.most_similar() instead).\n",
      "  \"\"\"Entry point for launching an IPython kernel.\n",
      "/anaconda3/envs/Kstone/lib/python3.6/site-packages/gensim/matutils.py:737: FutureWarning: Conversion of the second argument of issubdtype from `int` to `np.signedinteger` is deprecated. In future, it will be treated as `np.int64 == np.dtype(int).type`.\n",
      "  if np.issubdtype(vec.dtype, np.int):\n"
     ]
    },
    {
     "data": {
      "text/plain": [
       "[('意大利', 0.882283627986908),\n",
       " ('奥地利', 0.8529626131057739),\n",
       " ('克罗地亚', 0.85158371925354),\n",
       " ('捷克', 0.8502353429794312),\n",
       " ('拉脱维亚', 0.8359612226486206),\n",
       " ('比利时', 0.828606367111206),\n",
       " ('丹麦', 0.8255711197853088),\n",
       " ('乌拉圭', 0.8196316957473755),\n",
       " ('巴拉圭', 0.8123424053192139),\n",
       " ('斯洛文尼亚', 0.8106606006622314),\n",
       " ('苏格兰', 0.7970532178878784),\n",
       " ('罗马尼亚', 0.7940184473991394),\n",
       " ('瑞典', 0.7893627882003784),\n",
       " ('索', 0.7821438312530518),\n",
       " ('立陶宛', 0.7755305171012878),\n",
       " ('巴林', 0.7752939462661743),\n",
       " ('斯', 0.774903416633606),\n",
       " ('科特迪瓦', 0.7748187780380249),\n",
       " ('摩洛哥', 0.7728717923164368),\n",
       " ('里斯本', 0.7661911845207214)]"
      ]
     },
     "execution_count": 45,
     "metadata": {},
     "output_type": "execute_result"
    }
   ],
   "source": [
    "news_word2vec.most_similar('葡萄牙', topn=20)"
   ]
  },
  {
   "cell_type": "markdown",
   "metadata": {},
   "source": [
    "## More Data, Better Result\n",
    "> We need merge the general dataset like 'wikipedia' with specific domain dataset like 'new data'"
   ]
  },
  {
   "cell_type": "markdown",
   "metadata": {},
   "source": [
    "## Fine-tune"
   ]
  },
  {
   "cell_type": "code",
   "execution_count": 46,
   "metadata": {},
   "outputs": [],
   "source": [
    "from collections import defaultdict"
   ]
  },
  {
   "cell_type": "code",
   "execution_count": 47,
   "metadata": {},
   "outputs": [],
   "source": [
    "def get_related_words(initial_words, model):\n",
    "    \n",
    "    max_size = 2000\n",
    "    \n",
    "    seen = defaultdict(int)\n",
    "    \n",
    "    unseen = [initial_words]\n",
    "    \n",
    "    while unseen and len(seen) < max_size:\n",
    "        \n",
    "        node = unseen.pop(0)\n",
    "            \n",
    "        new_expanding = [w for w, s in model.most_similar(node, topn=20)]\n",
    "        \n",
    "        unseen += new_expanding\n",
    "        \n",
    "        seen[node] += 1 # if we need more sophsiticated, we need change the value as the function(layer, similarity)\n",
    "        \n",
    "    return seen"
   ]
  },
  {
   "cell_type": "code",
   "execution_count": 48,
   "metadata": {},
   "outputs": [
    {
     "name": "stderr",
     "output_type": "stream",
     "text": [
      "/anaconda3/envs/Kstone/lib/python3.6/site-packages/ipykernel_launcher.py:13: DeprecationWarning: Call to deprecated `most_similar` (Method will be removed in 4.0.0, use self.wv.most_similar() instead).\n",
      "  del sys.path[0]\n"
     ]
    }
   ],
   "source": [
    "related_words = get_related_words('葡萄牙', news_word2vec)"
   ]
  },
  {
   "cell_type": "code",
   "execution_count": 49,
   "metadata": {},
   "outputs": [
    {
     "data": {
      "text/plain": [
       "[('捷克', 559),\n",
       " ('奥地利', 547),\n",
       " ('比利时', 536),\n",
       " ('巴林', 516),\n",
       " ('葡萄牙', 493),\n",
       " ('罗马尼亚', 490),\n",
       " ('丹麦', 477),\n",
       " ('拉脱维亚', 411),\n",
       " ('匈牙利', 340),\n",
       " ('立陶宛', 336),\n",
       " ('乌拉圭', 333),\n",
       " ('苏格兰', 332),\n",
       " ('斯洛文尼亚', 331),\n",
       " ('白俄罗斯', 327),\n",
       " ('克罗地亚', 316),\n",
       " ('意大利', 296),\n",
       " ('波兰', 275),\n",
       " ('乌克兰', 239),\n",
       " ('玻利维亚', 229),\n",
       " ('阿联酋', 223),\n",
       " ('秘鲁', 217),\n",
       " ('吉尔吉斯斯坦', 213),\n",
       " ('基辅', 205),\n",
       " ('南非', 200),\n",
       " ('保加利亚', 196),\n",
       " ('新加坡', 193),\n",
       " ('黎巴嫩', 184),\n",
       " ('斯洛伐克', 183),\n",
       " ('茨', 183),\n",
       " ('约旦', 178)]"
      ]
     },
     "execution_count": 49,
     "metadata": {},
     "output_type": "execute_result"
    }
   ],
   "source": [
    "sorted(related_words.items(), key=lambda x: x[1], reverse=True)[:30]"
   ]
  },
  {
   "cell_type": "code",
   "execution_count": 50,
   "metadata": {
    "scrolled": false
   },
   "outputs": [
    {
     "name": "stderr",
     "output_type": "stream",
     "text": [
      "/anaconda3/envs/Kstone/lib/python3.6/site-packages/ipykernel_launcher.py:1: DeprecationWarning: Call to deprecated `most_similar` (Method will be removed in 4.0.0, use self.wv.most_similar() instead).\n",
      "  \"\"\"Entry point for launching an IPython kernel.\n"
     ]
    },
    {
     "data": {
      "text/plain": [
       "[('意大利', 0.882283627986908),\n",
       " ('奥地利', 0.8529626131057739),\n",
       " ('克罗地亚', 0.85158371925354),\n",
       " ('捷克', 0.8502353429794312),\n",
       " ('拉脱维亚', 0.8359612226486206),\n",
       " ('比利时', 0.828606367111206),\n",
       " ('丹麦', 0.8255711197853088),\n",
       " ('乌拉圭', 0.8196316957473755),\n",
       " ('巴拉圭', 0.8123424053192139),\n",
       " ('斯洛文尼亚', 0.8106606006622314),\n",
       " ('苏格兰', 0.7970532178878784),\n",
       " ('罗马尼亚', 0.7940184473991394),\n",
       " ('瑞典', 0.7893627882003784),\n",
       " ('索', 0.7821438312530518),\n",
       " ('立陶宛', 0.7755305171012878),\n",
       " ('巴林', 0.7752939462661743),\n",
       " ('斯', 0.774903416633606),\n",
       " ('科特迪瓦', 0.7748187780380249),\n",
       " ('摩洛哥', 0.7728717923164368),\n",
       " ('里斯本', 0.7661911845207214),\n",
       " ('圣胡安', 0.7656958103179932),\n",
       " ('拉曼', 0.7602522969245911),\n",
       " ('喀麦隆', 0.7592050433158875),\n",
       " ('中国香港', 0.7583364248275757),\n",
       " ('基辅', 0.7566611766815186),\n",
       " ('黑文市', 0.7561211585998535),\n",
       " ('西班牙', 0.7558852434158325),\n",
       " ('马赛', 0.7550817728042603),\n",
       " ('塞内加尔', 0.7537456750869751),\n",
       " ('布拉格', 0.7520340085029602)]"
      ]
     },
     "execution_count": 50,
     "metadata": {},
     "output_type": "execute_result"
    }
   ],
   "source": [
    "news_word2vec.most_similar('葡萄牙', topn=30)"
   ]
  },
  {
   "cell_type": "markdown",
   "metadata": {},
   "source": [
    "## Name Entity Recongnition\n",
    "Given a give => Person Name, Organization Name, Datetime, Location, Other"
   ]
  },
  {
   "cell_type": "markdown",
   "metadata": {},
   "source": [
    "## Part of Speech"
   ]
  },
  {
   "cell_type": "code",
   "execution_count": 51,
   "metadata": {},
   "outputs": [],
   "source": [
    "from jieba import posseg"
   ]
  },
  {
   "cell_type": "code",
   "execution_count": 52,
   "metadata": {},
   "outputs": [],
   "source": [
    "## References\n",
    "## https://blog.csdn.net/huludan/article/details/52727298\n",
    "## https://pyltp.readthedocs.io/zh_CN/latest/"
   ]
  },
  {
   "cell_type": "code",
   "execution_count": 53,
   "metadata": {},
   "outputs": [],
   "source": [
    "test_news_two = \"\"\"今年是“一带一路”倡议提出五周年。五年来，中国已经同140多个国家和国际组织签署共建“一带一路”合作协议，一大批重大合作项目已经落地生根。在今年的外访和参加国际会议期间，习近平主席几乎每到一个国家都会提到“一带一路”，亲自推动“一带一路”倡议走深走实。\n",
    "\n",
    "在阿联酋，习近平强调中阿是共建“一带一路”的天然合作伙伴，中方视阿联酋为“一带一路”建设重要支点国家。在塞内加尔，习近平见证了中塞共建“一带一路”等多项双边合作文件的签署，塞内加尔也成为西非首个签署“一带一路”合作文件的国家。在卢旺达，习近平表示，中方欢迎卢方积极参与共建“一带一路”国际合作，鼓励中国企业赴卢旺达投资兴业，助力卢旺达工业化和现代化进程。在南非，习近平强调，中南双方要加强在“一带一路”和中非合作论坛框架内合作。在毛里求斯，习近平提议，发挥毛里求斯参与共建“一带一路”的独特区位优势，加强沟通对接，深化广泛领域合作。\n",
    "\n",
    "习近平今年外访收官，向国际社会传达了什么讯息？（来源：CCTV-新闻）\n",
    "△独家V观丨盛装歌舞！习近平出席巴新独立大道移交启用仪式\n",
    "巴布亚新几内亚是太平洋岛国地区首个同中方签署共建“一带一路”合作协议的国家。在巴新，习近平表示，双方要在“一带一路”框架内加强发展战略对接，争取尽早就启动双边自由贸易协定谈判达成一致。在文莱，习近平强调，中方视文莱为建设21世纪海上丝绸之路重要合作伙伴，愿将“一带一路”倡议同文莱经济多元化战略“2035宏愿”相对接。在菲律宾，习近平见证了《中华人民共和国政府与菲律宾共和国政府关于共同推进“一带一路”建设的谅解备忘录》等多项双边合作文件的签署。\n",
    "\n",
    "在西班牙，习近平表示，中西开展“一带一路”合作具有历史、地理等多重优势，要加强“一带一路”倡议同西班牙亚洲战略、地中海走廊建设等对接。在阿根廷，习近平强调，双方要在共建“一带一路”框架内加强沟通和合作，对接两国发展规划。在巴拿马，习近平指出，巴方“2030年国家物流战略”同中方共建“一带一路”倡议高度契合，双方要加强战略对接。在葡萄牙，习近平强调，双方要以签署中葡政府间共建“一带一路”合作谅解备忘录为契机，全面加强“一带一路”框架内合作，促进互联互通。\n",
    "\n",
    "习近平今年外访收官，向国际社会传达了什么讯息？△习近平在APEC工商领导人峰会上发表主旨演讲\n",
    "\n",
    "在今年的APEC工商领导人峰会上，习近平发表主旨演讲时还郑重表示，共建“一带一路”是开放的合作平台，秉持的是共商共建共享的基本原则，没有地缘政治目的，不针对谁也不排除谁，不会关起门来搞小圈子，不是有人说的这样那样的所谓“陷阱”，而是中国同世界共享机遇、共谋发展的阳光大道。中国将于明年4月在北京举办第二届“一带一路”国际合作高峰论坛。\n",
    "\n",
    "四次踏出国门，每到一地，习近平都在积极扩大“一带一路”朋友圈，寻找“一带一路”倡议和各国发展战略之间的契合点，并亲自发声排除外界对“一带一路”倡议的各种杂音。可以说，共建“一带一路”是习近平2018年外访行程的一大中心主题。\n",
    "\"\"\""
   ]
  },
  {
   "cell_type": "code",
   "execution_count": 54,
   "metadata": {},
   "outputs": [
    {
     "name": "stdout",
     "output_type": "stream",
     "text": [
      "今年/t\n",
      "是/v\n",
      "“/x\n",
      "一带/n\n",
      "一路/m\n",
      "”/x\n",
      "倡议/n\n",
      "提出/v\n",
      "五周年/m\n",
      "。/x\n",
      "五年/t\n",
      "来/v\n",
      "，/x\n",
      "中国/ns\n",
      "已经/d\n",
      "同/c\n",
      "140/m\n",
      "多个/m\n",
      "国家/n\n",
      "和/c\n",
      "国际/n\n",
      "组织/v\n",
      "签署/v\n",
      "共建/v\n",
      "“/x\n",
      "一带/n\n",
      "一路/m\n",
      "”/x\n",
      "合作/vn\n",
      "协议/n\n",
      "，/x\n",
      "一大批/m\n",
      "重大/a\n",
      "合作项目/n\n",
      "已经/d\n",
      "落地生根/i\n",
      "。/x\n",
      "在/p\n",
      "今年/t\n",
      "的/uj\n",
      "外访/v\n",
      "和/c\n",
      "参加/v\n",
      "国际/n\n",
      "会议/n\n",
      "期间/f\n",
      "，/x\n",
      "习近平/nrfg\n",
      "主席/n\n",
      "几乎/d\n",
      "每/r\n",
      "到/v\n",
      "一个/m\n",
      "国家/n\n",
      "都/d\n",
      "会/v\n",
      "提到/v\n",
      "“/x\n",
      "一带/n\n",
      "一路/m\n",
      "”/x\n",
      "，/x\n",
      "亲自/d\n",
      "推动/v\n",
      "“/x\n",
      "一带/n\n",
      "一路/m\n",
      "”/x\n",
      "倡议/n\n",
      "走/v\n",
      "深/a\n",
      "走/v\n",
      "实/v\n",
      "。/x\n",
      "\n",
      "/x\n",
      "\n",
      "/x\n",
      "在/p\n",
      "阿联酋/ns\n",
      "，/x\n",
      "习近平/nrfg\n",
      "强调/v\n",
      "中阿/ns\n",
      "是/v\n",
      "共建/v\n",
      "“/x\n",
      "一带/n\n",
      "一路/m\n",
      "”/x\n",
      "的/uj\n",
      "天然/b\n",
      "合作伙伴/n\n",
      "，/x\n",
      "中方/f\n",
      "视/vg\n",
      "阿联酋/ns\n",
      "为/p\n",
      "“/x\n",
      "一带/n\n",
      "一路/m\n",
      "”/x\n",
      "建设/vn\n",
      "重要/a\n",
      "支点/n\n",
      "国家/n\n",
      "。/x\n",
      "在/p\n",
      "塞内加尔/ns\n",
      "，/x\n",
      "习近平/nrfg\n",
      "见证/v\n",
      "了/ul\n",
      "中塞/ns\n",
      "共建/v\n",
      "“/x\n",
      "一带/n\n",
      "一路/m\n",
      "”/x\n",
      "等/u\n",
      "多项/m\n",
      "双边合作/n\n",
      "文件/n\n",
      "的/uj\n",
      "签署/v\n",
      "，/x\n",
      "塞内加尔/ns\n",
      "也/d\n",
      "成为/v\n",
      "西非/ns\n",
      "首个/m\n",
      "签署/v\n",
      "“/x\n",
      "一带/n\n",
      "一路/m\n",
      "”/x\n",
      "合作/vn\n",
      "文件/n\n",
      "的/uj\n",
      "国家/n\n",
      "。/x\n",
      "在/p\n",
      "卢旺达/nr\n",
      "，/x\n",
      "习近平/nrfg\n",
      "表示/v\n",
      "，/x\n",
      "中方/f\n",
      "欢迎/v\n",
      "卢方/nr\n",
      "积极参与/i\n",
      "共建/v\n",
      "“/x\n",
      "一带/n\n",
      "一路/m\n",
      "”/x\n",
      "国际/n\n",
      "合作/vn\n",
      "，/x\n",
      "鼓励/v\n",
      "中国/ns\n",
      "企业/n\n",
      "赴/v\n",
      "卢旺达/nr\n",
      "投资/vn\n",
      "兴业/n\n",
      "，/x\n",
      "助力/n\n",
      "卢旺达/nr\n",
      "工业化/vn\n",
      "和/c\n",
      "现代化/vn\n",
      "进程/n\n",
      "。/x\n",
      "在/p\n",
      "南非/ns\n",
      "，/x\n",
      "习近平/nrfg\n",
      "强调/v\n",
      "，/x\n",
      "中南/ns\n",
      "双方/n\n",
      "要/v\n",
      "加强/v\n",
      "在/p\n",
      "“/x\n",
      "一带/n\n",
      "一路/m\n",
      "”/x\n",
      "和/c\n",
      "中非/ns\n",
      "合作/vn\n",
      "论坛/n\n",
      "框架/n\n",
      "内/n\n",
      "合作/vn\n",
      "。/x\n",
      "在/p\n",
      "毛里求斯/ns\n",
      "，/x\n",
      "习近平/nrfg\n",
      "提议/v\n",
      "，/x\n",
      "发挥/v\n",
      "毛里求斯/ns\n",
      "参与/v\n",
      "共建/v\n",
      "“/x\n",
      "一带/n\n",
      "一路/m\n",
      "”/x\n",
      "的/uj\n",
      "独特/a\n",
      "区位/n\n",
      "优势/n\n",
      "，/x\n",
      "加强/v\n",
      "沟通/v\n",
      "对接/v\n",
      "，/x\n",
      "深化/j\n",
      "广泛/a\n",
      "领域/n\n",
      "合作/vn\n",
      "。/x\n",
      "\n",
      "/x\n",
      "\n",
      "/x\n",
      "习近平/nrfg\n",
      "今年/t\n",
      "外访/v\n",
      "收官/n\n",
      "，/x\n",
      "向/p\n",
      "国际/n\n",
      "社会/n\n",
      "传达/v\n",
      "了/ul\n",
      "什么/r\n",
      "讯息/n\n",
      "？/x\n",
      "（/x\n",
      "来源/n\n",
      "：/x\n",
      "CCTV/eng\n",
      "-/x\n",
      "新闻/n\n",
      "）/x\n",
      "\n",
      "/x\n",
      "△/x\n",
      "独家/n\n",
      "V/eng\n",
      "观/vg\n",
      "丨/zg\n",
      "盛装/v\n",
      "歌舞/n\n",
      "！/x\n",
      "习近平/nrfg\n",
      "出席/v\n",
      "巴新/ns\n",
      "独立/v\n",
      "大道/n\n",
      "移交/v\n",
      "启用/v\n",
      "仪式/n\n",
      "\n",
      "/x\n",
      "巴布亚新几内亚/ns\n",
      "是/v\n",
      "太平洋/ns\n",
      "岛国/n\n",
      "地区/n\n",
      "首个/m\n",
      "同/p\n",
      "中方/f\n",
      "签署/v\n",
      "共建/v\n",
      "“/x\n",
      "一带/n\n",
      "一路/m\n",
      "”/x\n",
      "合作/vn\n",
      "协议/n\n",
      "的/uj\n",
      "国家/n\n",
      "。/x\n",
      "在/p\n",
      "巴新/ns\n",
      "，/x\n",
      "习近平/nrfg\n",
      "表示/v\n",
      "，/x\n",
      "双方/n\n",
      "要/v\n",
      "在/p\n",
      "“/x\n",
      "一带/n\n",
      "一路/m\n",
      "”/x\n",
      "框架/n\n",
      "内/n\n",
      "加强/v\n",
      "发展/vn\n",
      "战略/n\n",
      "对接/v\n",
      "，/x\n",
      "争取/v\n",
      "尽早/d\n",
      "就/d\n",
      "启动/vn\n",
      "双边/n\n",
      "自由/a\n",
      "贸易协定/nz\n",
      "谈判/vn\n",
      "达成/v\n",
      "一致/d\n",
      "。/x\n",
      "在/p\n",
      "文莱/nr\n",
      "，/x\n",
      "习近平/nrfg\n",
      "强调/v\n",
      "，/x\n",
      "中方/f\n",
      "视/vg\n",
      "文莱/nr\n",
      "为/p\n",
      "建设/vn\n",
      "21/m\n",
      "世纪/n\n",
      "海上/s\n",
      "丝绸之路/l\n",
      "重要/a\n",
      "合作伙伴/n\n",
      "，/x\n",
      "愿/v\n",
      "将/d\n",
      "“/x\n",
      "一带/n\n",
      "一路/m\n",
      "”/x\n",
      "倡议/n\n",
      "同/p\n",
      "文莱/nr\n",
      "经济/n\n",
      "多元化/vn\n",
      "战略/n\n",
      "“/x\n",
      "2035/m\n",
      "宏愿/n\n",
      "”/x\n",
      "相对/d\n",
      "接/v\n",
      "。/x\n",
      "在/p\n",
      "菲律宾/ns\n",
      "，/x\n",
      "习近平/nrfg\n",
      "见证/v\n",
      "了/ul\n",
      "《/x\n",
      "中华人民共和国政府/nt\n",
      "与/p\n",
      "菲律宾共和国/ns\n",
      "政府/n\n",
      "关于/p\n",
      "共同/d\n",
      "推进/v\n",
      "“/x\n",
      "一带/n\n",
      "一路/m\n",
      "”/x\n",
      "建设/vn\n",
      "的/uj\n",
      "谅解/v\n",
      "备忘录/n\n",
      "》/x\n",
      "等/u\n",
      "多项/m\n",
      "双边合作/n\n",
      "文件/n\n",
      "的/uj\n",
      "签署/v\n",
      "。/x\n",
      "\n",
      "/x\n",
      "\n",
      "/x\n",
      "在/p\n",
      "西班牙/ns\n",
      "，/x\n",
      "习近平/nrfg\n",
      "表示/v\n",
      "，/x\n",
      "中西/ns\n",
      "开展/v\n",
      "“/x\n",
      "一带/n\n",
      "一路/m\n",
      "”/x\n",
      "合作/vn\n",
      "具有/v\n",
      "历史/n\n",
      "、/x\n",
      "地理/n\n",
      "等/u\n",
      "多重/m\n",
      "优势/n\n",
      "，/x\n",
      "要/v\n",
      "加强/v\n",
      "“/x\n",
      "一带/n\n",
      "一路/m\n",
      "”/x\n",
      "倡议/n\n",
      "同/p\n",
      "西班牙/ns\n",
      "亚洲/ns\n",
      "战略/n\n",
      "、/x\n",
      "地中海/ns\n",
      "走廊/n\n",
      "建设/vn\n",
      "等/u\n",
      "对接/v\n",
      "。/x\n",
      "在/p\n",
      "阿根廷/nr\n",
      "，/x\n",
      "习近平/nrfg\n",
      "强调/v\n",
      "，/x\n",
      "双方/n\n",
      "要/v\n",
      "在/p\n",
      "共建/v\n",
      "“/x\n",
      "一带/n\n",
      "一路/m\n",
      "”/x\n",
      "框架/n\n",
      "内/n\n",
      "加强/v\n",
      "沟通/v\n",
      "和/c\n",
      "合作/vn\n",
      "，/x\n",
      "对接/v\n",
      "两/m\n",
      "国/n\n",
      "发展/vn\n",
      "规划/n\n",
      "。/x\n",
      "在/p\n",
      "巴拿马/ns\n",
      "，/x\n",
      "习近平/nrfg\n",
      "指出/v\n",
      "，/x\n",
      "巴方/nr\n",
      "“/x\n",
      "2030/m\n",
      "年/m\n",
      "国家/n\n",
      "物流/n\n",
      "战略/n\n",
      "”/x\n",
      "同/p\n",
      "中方/f\n",
      "共建/v\n",
      "“/x\n",
      "一带/n\n",
      "一路/m\n",
      "”/x\n",
      "倡议/n\n",
      "高度/n\n",
      "契合/v\n",
      "，/x\n",
      "双方/n\n",
      "要/v\n",
      "加强/v\n",
      "战略/n\n",
      "对接/v\n",
      "。/x\n",
      "在/p\n",
      "葡萄牙/ns\n",
      "，/x\n",
      "习近平/nrfg\n",
      "强调/v\n",
      "，/x\n",
      "双方/n\n",
      "要/v\n",
      "以/p\n",
      "签署/v\n",
      "中葡/n\n",
      "政府/n\n",
      "间/f\n",
      "共建/v\n",
      "“/x\n",
      "一带/n\n",
      "一路/m\n",
      "”/x\n",
      "合作/vn\n",
      "谅解/v\n",
      "备忘录/n\n",
      "为/p\n",
      "契机/n\n",
      "，/x\n",
      "全面/n\n",
      "加强/v\n",
      "“/x\n",
      "一带/n\n",
      "一路/m\n",
      "”/x\n",
      "框架/n\n",
      "内/n\n",
      "合作/vn\n",
      "，/x\n",
      "促进/v\n",
      "互联互通/l\n",
      "。/x\n",
      "\n",
      "/x\n",
      "\n",
      "/x\n",
      "习近平/nrfg\n",
      "今年/t\n",
      "外访/v\n",
      "收官/n\n",
      "，/x\n",
      "向/p\n",
      "国际/n\n",
      "社会/n\n",
      "传达/v\n",
      "了/ul\n",
      "什么/r\n",
      "讯息/n\n",
      "？/x\n",
      "△/x\n",
      "习近平/nrfg\n",
      "在/p\n",
      "APEC/eng\n",
      "工商/n\n",
      "领导人/n\n",
      "峰会/n\n",
      "上/f\n",
      "发表/v\n",
      "主旨/n\n",
      "演讲/v\n",
      "\n",
      "/x\n",
      "\n",
      "/x\n",
      "在/p\n",
      "今年/t\n",
      "的/uj\n",
      "APEC/eng\n",
      "工商/n\n",
      "领导人/n\n",
      "峰会/n\n",
      "上/f\n",
      "，/x\n",
      "习近平/nrfg\n",
      "发表/v\n",
      "主旨/n\n",
      "演讲时/n\n",
      "还/d\n",
      "郑重/a\n",
      "表示/v\n",
      "，/x\n",
      "共建/v\n",
      "“/x\n",
      "一带/n\n",
      "一路/m\n",
      "”/x\n",
      "是/v\n",
      "开放/v\n",
      "的/uj\n",
      "合作/vn\n",
      "平台/n\n",
      "，/x\n",
      "秉持/v\n",
      "的/uj\n",
      "是/v\n",
      "共商/n\n",
      "共建/v\n",
      "共享/v\n",
      "的/uj\n",
      "基本/n\n",
      "原则/n\n",
      "，/x\n",
      "没有/v\n",
      "地缘/n\n",
      "政治/n\n",
      "目的/n\n",
      "，/x\n",
      "不/d\n",
      "针对/p\n",
      "谁/r\n",
      "也/d\n",
      "不/d\n",
      "排除/v\n",
      "谁/r\n",
      "，/x\n",
      "不会/v\n",
      "关起门来/l\n",
      "搞/v\n",
      "小圈子/nr\n",
      "，/x\n",
      "不是/c\n",
      "有人/r\n",
      "说/v\n",
      "的/uj\n",
      "这样/r\n",
      "那样/r\n",
      "的/uj\n",
      "所谓/b\n",
      "“/x\n",
      "陷阱/n\n",
      "”/x\n",
      "，/x\n",
      "而是/c\n",
      "中国/ns\n",
      "同/p\n",
      "世界/n\n",
      "共享/v\n",
      "机遇/n\n",
      "、/x\n",
      "共谋/n\n",
      "发展/vn\n",
      "的/uj\n",
      "阳光/nr\n",
      "大道/n\n",
      "。/x\n",
      "中国/ns\n",
      "将/d\n",
      "于/p\n",
      "明年/t\n",
      "4/m\n",
      "月/m\n",
      "在/p\n",
      "北京/ns\n",
      "举办/v\n",
      "第二届/m\n",
      "“/x\n",
      "一带/n\n",
      "一路/m\n",
      "”/x\n",
      "国际/n\n",
      "合作/vn\n",
      "高峰论坛/n\n",
      "。/x\n",
      "\n",
      "/x\n",
      "\n",
      "/x\n",
      "四次/m\n",
      "踏出/v\n",
      "国门/n\n",
      "，/x\n",
      "每到一地/l\n",
      "，/x\n",
      "习近平/nrfg\n",
      "都/d\n",
      "在/p\n",
      "积极/ad\n",
      "扩大/v\n",
      "“/x\n",
      "一带/n\n",
      "一路/m\n",
      "”/x\n",
      "朋友圈/n\n",
      "，/x\n",
      "寻找/v\n",
      "“/x\n",
      "一带/n\n",
      "一路/m\n",
      "”/x\n",
      "倡议/n\n",
      "和/c\n",
      "各国/r\n",
      "发展/vn\n",
      "战略/n\n",
      "之间/f\n",
      "的/uj\n",
      "契合点/n\n",
      "，/x\n",
      "并/c\n",
      "亲自/d\n",
      "发声/v\n",
      "排除/v\n",
      "外界/n\n",
      "对/p\n",
      "“/x\n",
      "一带/n\n",
      "一路/m\n",
      "”/x\n",
      "倡议/n\n",
      "的/uj\n",
      "各种/r\n",
      "杂音/n\n",
      "。/x\n",
      "可以/c\n",
      "说/v\n",
      "，/x\n",
      "共建/v\n",
      "“/x\n",
      "一带/n\n",
      "一路/m\n",
      "”/x\n",
      "是/v\n",
      "习近平/nrfg\n",
      "2018/m\n",
      "年/m\n",
      "外访/v\n",
      "行程/n\n",
      "的/uj\n",
      "一大/a\n",
      "中心/n\n",
      "主题/n\n",
      "。/x\n",
      "\n",
      "/x\n"
     ]
    }
   ],
   "source": [
    "for p in posseg.cut(test_news_two):\n",
    "    print(p)"
   ]
  }
 ],
 "metadata": {
  "kernelspec": {
   "display_name": "Kstone",
   "language": "python",
   "name": "kstone"
  },
  "language_info": {
   "codemirror_mode": {
    "name": "ipython",
    "version": 3
   },
   "file_extension": ".py",
   "mimetype": "text/x-python",
   "name": "python",
   "nbconvert_exporter": "python",
   "pygments_lexer": "ipython3",
   "version": "3.6.7"
  }
 },
 "nbformat": 4,
 "nbformat_minor": 2
}
